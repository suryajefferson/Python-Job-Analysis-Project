{
 "cells": [
  {
   "cell_type": "markdown",
   "metadata": {},
   "source": [
    "### Importing Libraries"
   ]
  },
  {
   "cell_type": "markdown",
   "metadata": {},
   "source": [
    "  - `pandas` as `pd` for data manipulation and analysis.\n",
    "  - `numpy` as `np` for numerical operations.\n",
    "  - `matplotlib.pyplot` as `plt` for creating visualizations.\n",
    "  - `ast` for safely evaluating strings into python objects.\n",
    "  - `seaborn` as `sns` for statistical data visualization and enhanced plotting.\n"
   ]
  },
  {
   "cell_type": "code",
   "execution_count": 3,
   "metadata": {},
   "outputs": [],
   "source": [
    "import pandas as pd\n",
    "import numpy as np\n",
    "import matplotlib.pyplot as plt\n",
    "import ast  \n",
    "import seaborn as sns"
   ]
  },
  {
   "cell_type": "markdown",
   "metadata": {},
   "source": [
    "### Loading Data"
   ]
  },
  {
   "cell_type": "markdown",
   "metadata": {},
   "source": [
    "- **Reading CSV File:** reading a csv file into a dataframe named `df`, which is used for data analysis and manipulation.\n"
   ]
  },
  {
   "cell_type": "code",
   "execution_count": 4,
   "metadata": {},
   "outputs": [
    {
     "data": {
      "text/html": [
       "<div>\n",
       "<style scoped>\n",
       "    .dataframe tbody tr th:only-of-type {\n",
       "        vertical-align: middle;\n",
       "    }\n",
       "\n",
       "    .dataframe tbody tr th {\n",
       "        vertical-align: top;\n",
       "    }\n",
       "\n",
       "    .dataframe thead th {\n",
       "        text-align: right;\n",
       "    }\n",
       "</style>\n",
       "<table border=\"1\" class=\"dataframe\">\n",
       "  <thead>\n",
       "    <tr style=\"text-align: right;\">\n",
       "      <th></th>\n",
       "      <th>job_title_short</th>\n",
       "      <th>job_title</th>\n",
       "      <th>job_location</th>\n",
       "      <th>job_via</th>\n",
       "      <th>job_schedule_type</th>\n",
       "      <th>job_work_from_home</th>\n",
       "      <th>search_location</th>\n",
       "      <th>job_posted_date</th>\n",
       "      <th>job_no_degree_mention</th>\n",
       "      <th>job_health_insurance</th>\n",
       "      <th>job_country</th>\n",
       "      <th>salary_rate</th>\n",
       "      <th>salary_year_avg</th>\n",
       "      <th>salary_hour_avg</th>\n",
       "      <th>company_name</th>\n",
       "      <th>job_skills</th>\n",
       "      <th>job_type_skills</th>\n",
       "    </tr>\n",
       "  </thead>\n",
       "  <tbody>\n",
       "    <tr>\n",
       "      <th>486938</th>\n",
       "      <td>Data Engineer</td>\n",
       "      <td>Principal Data Engineer</td>\n",
       "      <td>Azle, TX</td>\n",
       "      <td>via Melga</td>\n",
       "      <td>Full-time</td>\n",
       "      <td>False</td>\n",
       "      <td>Sudan</td>\n",
       "      <td>2023-02-12 12:23:23</td>\n",
       "      <td>False</td>\n",
       "      <td>False</td>\n",
       "      <td>Sudan</td>\n",
       "      <td>NaN</td>\n",
       "      <td>NaN</td>\n",
       "      <td>NaN</td>\n",
       "      <td>Fidelity Investments</td>\n",
       "      <td>['oracle', 'aws', 'jira']</td>\n",
       "      <td>{'async': ['jira'], 'cloud': ['oracle', 'aws']}</td>\n",
       "    </tr>\n",
       "    <tr>\n",
       "      <th>749805</th>\n",
       "      <td>Data Scientist</td>\n",
       "      <td>Data Scientist</td>\n",
       "      <td>Porto, Portugal</td>\n",
       "      <td>via Indeed</td>\n",
       "      <td>Full-time</td>\n",
       "      <td>False</td>\n",
       "      <td>Portugal</td>\n",
       "      <td>2023-04-02 20:16:43</td>\n",
       "      <td>False</td>\n",
       "      <td>False</td>\n",
       "      <td>Portugal</td>\n",
       "      <td>NaN</td>\n",
       "      <td>NaN</td>\n",
       "      <td>NaN</td>\n",
       "      <td>Damia</td>\n",
       "      <td>NaN</td>\n",
       "      <td>NaN</td>\n",
       "    </tr>\n",
       "  </tbody>\n",
       "</table>\n",
       "</div>"
      ],
      "text/plain": [
       "       job_title_short                job_title     job_location     job_via  \\\n",
       "486938   Data Engineer  Principal Data Engineer         Azle, TX   via Melga   \n",
       "749805  Data Scientist           Data Scientist  Porto, Portugal  via Indeed   \n",
       "\n",
       "       job_schedule_type  job_work_from_home search_location  \\\n",
       "486938         Full-time               False           Sudan   \n",
       "749805         Full-time               False        Portugal   \n",
       "\n",
       "            job_posted_date  job_no_degree_mention  job_health_insurance  \\\n",
       "486938  2023-02-12 12:23:23                  False                 False   \n",
       "749805  2023-04-02 20:16:43                  False                 False   \n",
       "\n",
       "       job_country salary_rate  salary_year_avg  salary_hour_avg  \\\n",
       "486938       Sudan         NaN              NaN              NaN   \n",
       "749805    Portugal         NaN              NaN              NaN   \n",
       "\n",
       "                company_name                 job_skills  \\\n",
       "486938  Fidelity Investments  ['oracle', 'aws', 'jira']   \n",
       "749805                 Damia                        NaN   \n",
       "\n",
       "                                        job_type_skills  \n",
       "486938  {'async': ['jira'], 'cloud': ['oracle', 'aws']}  \n",
       "749805                                              NaN  "
      ]
     },
     "execution_count": 4,
     "metadata": {},
     "output_type": "execute_result"
    }
   ],
   "source": [
    "df = pd.read_csv(r'D:\\Python\\Files\\data_jobs.csv')\n",
    "df.sample(2)"
   ]
  },
  {
   "cell_type": "markdown",
   "metadata": {},
   "source": [
    "### Data Cleanup"
   ]
  },
  {
   "cell_type": "markdown",
   "metadata": {},
   "source": [
    "- **Renaming Columns:** assigning new column names to the dataframe.\n",
    "\n",
    "- **Converting Dates:** using `pd.to_datetime()` to change the 'posted_dt' column from string to datetime format.\n",
    "\n",
    "- **Converting Skills:**\n",
    "  - using `.apply() `function to convert 'skills' from string to list format by applying a custom function to  every row of a dataFrame.\n",
    "  - using `ast.literal_eval()` to evaluate and convert strings to python objects.\n",
    "  - ensuring conversion only happens if the value is not missing using `pd.notna(gg)`.\n",
    "\n",
    "- **Handling Missing Values:** optionally dropping rows with missing values in the 'salyr' column using `df.dropna()` (commented out)."
   ]
  },
  {
   "cell_type": "code",
   "execution_count": 5,
   "metadata": {},
   "outputs": [],
   "source": [
    "new_columns = ['job', 'full_name', 'location', 'via', 'schedule', 'work_from_home','search_location','posted_dt','no_degree','health_ins','country','salrate','salyr','salhr','company','skills','skilltype']\n",
    "df.columns = new_columns\n",
    "\n",
    "# data clean up\n",
    "df['posted_dt'] = pd.to_datetime(df['posted_dt']) \n",
    "df['skills'] = df['skills'].apply(lambda gg: ast.literal_eval(gg) if pd.notna(gg) else gg) \n",
    "#df.dropna(subset=['salyr'],inplace=True)"
   ]
  },
  {
   "cell_type": "markdown",
   "metadata": {},
   "source": [
    "### Sample"
   ]
  },
  {
   "cell_type": "markdown",
   "metadata": {},
   "source": [
    "- Random sample of 2 rows from the modified dataFrame `df`"
   ]
  },
  {
   "cell_type": "code",
   "execution_count": 6,
   "metadata": {},
   "outputs": [
    {
     "data": {
      "text/html": [
       "<div>\n",
       "<style scoped>\n",
       "    .dataframe tbody tr th:only-of-type {\n",
       "        vertical-align: middle;\n",
       "    }\n",
       "\n",
       "    .dataframe tbody tr th {\n",
       "        vertical-align: top;\n",
       "    }\n",
       "\n",
       "    .dataframe thead th {\n",
       "        text-align: right;\n",
       "    }\n",
       "</style>\n",
       "<table border=\"1\" class=\"dataframe\">\n",
       "  <thead>\n",
       "    <tr style=\"text-align: right;\">\n",
       "      <th></th>\n",
       "      <th>job</th>\n",
       "      <th>full_name</th>\n",
       "      <th>location</th>\n",
       "      <th>via</th>\n",
       "      <th>schedule</th>\n",
       "      <th>work_from_home</th>\n",
       "      <th>search_location</th>\n",
       "      <th>posted_dt</th>\n",
       "      <th>no_degree</th>\n",
       "      <th>health_ins</th>\n",
       "      <th>country</th>\n",
       "      <th>salrate</th>\n",
       "      <th>salyr</th>\n",
       "      <th>salhr</th>\n",
       "      <th>company</th>\n",
       "      <th>skills</th>\n",
       "      <th>skilltype</th>\n",
       "    </tr>\n",
       "  </thead>\n",
       "  <tbody>\n",
       "    <tr>\n",
       "      <th>416885</th>\n",
       "      <td>Data Analyst</td>\n",
       "      <td>Analyst, Data Analysis</td>\n",
       "      <td>Kuala Lumpur, Federal Territory of Kuala Lumpu...</td>\n",
       "      <td>via Trabajo.org</td>\n",
       "      <td>Full-time</td>\n",
       "      <td>False</td>\n",
       "      <td>Malaysia</td>\n",
       "      <td>2023-05-02 17:01:25</td>\n",
       "      <td>False</td>\n",
       "      <td>False</td>\n",
       "      <td>Malaysia</td>\n",
       "      <td>NaN</td>\n",
       "      <td>NaN</td>\n",
       "      <td>NaN</td>\n",
       "      <td>Standard Chartered Bank</td>\n",
       "      <td>[r, sas, sas, python, sql, vba, oracle, hadoop...</td>\n",
       "      <td>{'analyst_tools': ['sas', 'tableau', 'alteryx'...</td>\n",
       "    </tr>\n",
       "    <tr>\n",
       "      <th>126175</th>\n",
       "      <td>Data Engineer</td>\n",
       "      <td>Senior Technical Lead - Data Engineer</td>\n",
       "      <td>Singapore</td>\n",
       "      <td>via Jooble</td>\n",
       "      <td>Full-time</td>\n",
       "      <td>False</td>\n",
       "      <td>Singapore</td>\n",
       "      <td>2023-08-23 08:19:23</td>\n",
       "      <td>True</td>\n",
       "      <td>False</td>\n",
       "      <td>Singapore</td>\n",
       "      <td>NaN</td>\n",
       "      <td>NaN</td>\n",
       "      <td>NaN</td>\n",
       "      <td>HCL Singapore Pte Ltd</td>\n",
       "      <td>[shell, sql, python, scala, java, aws, azure, ...</td>\n",
       "      <td>{'analyst_tools': ['ssis', 'ssrs', 'power bi']...</td>\n",
       "    </tr>\n",
       "  </tbody>\n",
       "</table>\n",
       "</div>"
      ],
      "text/plain": [
       "                  job                              full_name  \\\n",
       "416885   Data Analyst                 Analyst, Data Analysis   \n",
       "126175  Data Engineer  Senior Technical Lead - Data Engineer   \n",
       "\n",
       "                                                 location              via  \\\n",
       "416885  Kuala Lumpur, Federal Territory of Kuala Lumpu...  via Trabajo.org   \n",
       "126175                                          Singapore       via Jooble   \n",
       "\n",
       "         schedule  work_from_home search_location           posted_dt  \\\n",
       "416885  Full-time           False        Malaysia 2023-05-02 17:01:25   \n",
       "126175  Full-time           False       Singapore 2023-08-23 08:19:23   \n",
       "\n",
       "        no_degree  health_ins    country salrate  salyr  salhr  \\\n",
       "416885      False       False   Malaysia     NaN    NaN    NaN   \n",
       "126175       True       False  Singapore     NaN    NaN    NaN   \n",
       "\n",
       "                        company  \\\n",
       "416885  Standard Chartered Bank   \n",
       "126175    HCL Singapore Pte Ltd   \n",
       "\n",
       "                                                   skills  \\\n",
       "416885  [r, sas, sas, python, sql, vba, oracle, hadoop...   \n",
       "126175  [shell, sql, python, scala, java, aws, azure, ...   \n",
       "\n",
       "                                                skilltype  \n",
       "416885  {'analyst_tools': ['sas', 'tableau', 'alteryx'...  \n",
       "126175  {'analyst_tools': ['ssis', 'ssrs', 'power bi']...  "
      ]
     },
     "execution_count": 6,
     "metadata": {},
     "output_type": "execute_result"
    }
   ],
   "source": [
    "df.sample(2)"
   ]
  },
  {
   "cell_type": "markdown",
   "metadata": {},
   "source": [
    "### Extracting Month "
   ]
  },
  {
   "cell_type": "markdown",
   "metadata": {},
   "source": [
    "- extracting the month from the `posted_dt` column and creating a new column `posted_mo` in the dataframe with this month information."
   ]
  },
  {
   "cell_type": "code",
   "execution_count": 7,
   "metadata": {},
   "outputs": [
    {
     "data": {
      "text/html": [
       "<div>\n",
       "<style scoped>\n",
       "    .dataframe tbody tr th:only-of-type {\n",
       "        vertical-align: middle;\n",
       "    }\n",
       "\n",
       "    .dataframe tbody tr th {\n",
       "        vertical-align: top;\n",
       "    }\n",
       "\n",
       "    .dataframe thead th {\n",
       "        text-align: right;\n",
       "    }\n",
       "</style>\n",
       "<table border=\"1\" class=\"dataframe\">\n",
       "  <thead>\n",
       "    <tr style=\"text-align: right;\">\n",
       "      <th></th>\n",
       "      <th>job</th>\n",
       "      <th>full_name</th>\n",
       "      <th>location</th>\n",
       "      <th>via</th>\n",
       "      <th>schedule</th>\n",
       "      <th>work_from_home</th>\n",
       "      <th>search_location</th>\n",
       "      <th>posted_dt</th>\n",
       "      <th>no_degree</th>\n",
       "      <th>health_ins</th>\n",
       "      <th>country</th>\n",
       "      <th>salrate</th>\n",
       "      <th>salyr</th>\n",
       "      <th>salhr</th>\n",
       "      <th>company</th>\n",
       "      <th>skills</th>\n",
       "      <th>skilltype</th>\n",
       "      <th>posted_mo</th>\n",
       "    </tr>\n",
       "  </thead>\n",
       "  <tbody>\n",
       "    <tr>\n",
       "      <th>696245</th>\n",
       "      <td>Senior Data Engineer</td>\n",
       "      <td>Senior DevOps Engineer (Big Data)</td>\n",
       "      <td>Armenia</td>\n",
       "      <td>via The Muse</td>\n",
       "      <td>Full-time</td>\n",
       "      <td>False</td>\n",
       "      <td>Armenia</td>\n",
       "      <td>2023-04-07 10:53:01</td>\n",
       "      <td>True</td>\n",
       "      <td>False</td>\n",
       "      <td>Armenia</td>\n",
       "      <td>NaN</td>\n",
       "      <td>NaN</td>\n",
       "      <td>NaN</td>\n",
       "      <td>EPAM Systems</td>\n",
       "      <td>[cassandra, aws, hadoop, spark, linux, puppet,...</td>\n",
       "      <td>{'cloud': ['aws'], 'databases': ['cassandra'],...</td>\n",
       "      <td>4</td>\n",
       "    </tr>\n",
       "    <tr>\n",
       "      <th>40790</th>\n",
       "      <td>Data Engineer</td>\n",
       "      <td>Data Engineer (Data Modeling)</td>\n",
       "      <td>United States</td>\n",
       "      <td>via Indeed</td>\n",
       "      <td>Full-time</td>\n",
       "      <td>False</td>\n",
       "      <td>Florida, United States</td>\n",
       "      <td>2023-07-10 06:08:51</td>\n",
       "      <td>True</td>\n",
       "      <td>False</td>\n",
       "      <td>United States</td>\n",
       "      <td>NaN</td>\n",
       "      <td>NaN</td>\n",
       "      <td>NaN</td>\n",
       "      <td>ACL Technology</td>\n",
       "      <td>[python, r, aws, azure, flow]</td>\n",
       "      <td>{'cloud': ['aws', 'azure'], 'other': ['flow'],...</td>\n",
       "      <td>7</td>\n",
       "    </tr>\n",
       "  </tbody>\n",
       "</table>\n",
       "</div>"
      ],
      "text/plain": [
       "                         job                          full_name  \\\n",
       "696245  Senior Data Engineer  Senior DevOps Engineer (Big Data)   \n",
       "40790          Data Engineer      Data Engineer (Data Modeling)   \n",
       "\n",
       "             location           via   schedule  work_from_home  \\\n",
       "696245        Armenia  via The Muse  Full-time           False   \n",
       "40790   United States    via Indeed  Full-time           False   \n",
       "\n",
       "               search_location           posted_dt  no_degree  health_ins  \\\n",
       "696245                 Armenia 2023-04-07 10:53:01       True       False   \n",
       "40790   Florida, United States 2023-07-10 06:08:51       True       False   \n",
       "\n",
       "              country salrate  salyr  salhr         company  \\\n",
       "696245        Armenia     NaN    NaN    NaN    EPAM Systems   \n",
       "40790   United States     NaN    NaN    NaN  ACL Technology   \n",
       "\n",
       "                                                   skills  \\\n",
       "696245  [cassandra, aws, hadoop, spark, linux, puppet,...   \n",
       "40790                       [python, r, aws, azure, flow]   \n",
       "\n",
       "                                                skilltype  posted_mo  \n",
       "696245  {'cloud': ['aws'], 'databases': ['cassandra'],...          4  \n",
       "40790   {'cloud': ['aws', 'azure'], 'other': ['flow'],...          7  "
      ]
     },
     "execution_count": 7,
     "metadata": {},
     "output_type": "execute_result"
    }
   ],
   "source": [
    "df['posted_mo'] = df['posted_dt'].dt.month\n",
    "df.sample(2)"
   ]
  },
  {
   "cell_type": "markdown",
   "metadata": {},
   "source": [
    "### Grouping and Counting "
   ]
  },
  {
   "cell_type": "markdown",
   "metadata": {},
   "source": [
    "- grouping the dataframe by the `posted_mo` column and calculating the size of each group. converting the result to a dataframe named `plot` where the index is `posted_mo` and the values represent the count of jobs for each month."
   ]
  },
  {
   "cell_type": "code",
   "execution_count": 8,
   "metadata": {},
   "outputs": [
    {
     "data": {
      "text/html": [
       "<div>\n",
       "<style scoped>\n",
       "    .dataframe tbody tr th:only-of-type {\n",
       "        vertical-align: middle;\n",
       "    }\n",
       "\n",
       "    .dataframe tbody tr th {\n",
       "        vertical-align: top;\n",
       "    }\n",
       "\n",
       "    .dataframe thead th {\n",
       "        text-align: right;\n",
       "    }\n",
       "</style>\n",
       "<table border=\"1\" class=\"dataframe\">\n",
       "  <thead>\n",
       "    <tr style=\"text-align: right;\">\n",
       "      <th></th>\n",
       "      <th>job</th>\n",
       "    </tr>\n",
       "    <tr>\n",
       "      <th>posted_mo</th>\n",
       "      <th></th>\n",
       "    </tr>\n",
       "  </thead>\n",
       "  <tbody>\n",
       "    <tr>\n",
       "      <th>1</th>\n",
       "      <td>91822</td>\n",
       "    </tr>\n",
       "    <tr>\n",
       "      <th>2</th>\n",
       "      <td>64578</td>\n",
       "    </tr>\n",
       "    <tr>\n",
       "      <th>3</th>\n",
       "      <td>64084</td>\n",
       "    </tr>\n",
       "    <tr>\n",
       "      <th>4</th>\n",
       "      <td>62919</td>\n",
       "    </tr>\n",
       "    <tr>\n",
       "      <th>5</th>\n",
       "      <td>52104</td>\n",
       "    </tr>\n",
       "    <tr>\n",
       "      <th>6</th>\n",
       "      <td>61572</td>\n",
       "    </tr>\n",
       "    <tr>\n",
       "      <th>7</th>\n",
       "      <td>63777</td>\n",
       "    </tr>\n",
       "    <tr>\n",
       "      <th>8</th>\n",
       "      <td>75162</td>\n",
       "    </tr>\n",
       "    <tr>\n",
       "      <th>9</th>\n",
       "      <td>62359</td>\n",
       "    </tr>\n",
       "    <tr>\n",
       "      <th>10</th>\n",
       "      <td>66611</td>\n",
       "    </tr>\n",
       "    <tr>\n",
       "      <th>11</th>\n",
       "      <td>64450</td>\n",
       "    </tr>\n",
       "    <tr>\n",
       "      <th>12</th>\n",
       "      <td>56303</td>\n",
       "    </tr>\n",
       "  </tbody>\n",
       "</table>\n",
       "</div>"
      ],
      "text/plain": [
       "             job\n",
       "posted_mo       \n",
       "1          91822\n",
       "2          64578\n",
       "3          64084\n",
       "4          62919\n",
       "5          52104\n",
       "6          61572\n",
       "7          63777\n",
       "8          75162\n",
       "9          62359\n",
       "10         66611\n",
       "11         64450\n",
       "12         56303"
      ]
     },
     "execution_count": 8,
     "metadata": {},
     "output_type": "execute_result"
    }
   ],
   "source": [
    "plot = df.groupby('posted_mo')['job'].agg('size').to_frame()\n",
    "plot"
   ]
  },
  {
   "cell_type": "markdown",
   "metadata": {},
   "source": [
    "### Filtering and Copying "
   ]
  },
  {
   "cell_type": "markdown",
   "metadata": {},
   "source": [
    "- creating a new dataframe `df_ind` by filtering the original dataframe to include only rows where the `country` column is `'India'`. making a copy of the filtered dataframe to avoid modifying the original dataframe."
   ]
  },
  {
   "cell_type": "code",
   "execution_count": 9,
   "metadata": {},
   "outputs": [],
   "source": [
    "df_ind = df[df['country']== 'India'].copy()"
   ]
  },
  {
   "cell_type": "markdown",
   "metadata": {},
   "source": [
    "### Grouping and Aggregating "
   ]
  },
  {
   "cell_type": "markdown",
   "metadata": {},
   "source": [
    "-  grouping the `df_ind` dataframe by the `posted_mo` column and calculating the size of each group. the result is converted to a dataframe named `plot_ind` where the index is `posted_mo` and the values represent the count of jobs posted in india for each month."
   ]
  },
  {
   "cell_type": "code",
   "execution_count": 10,
   "metadata": {},
   "outputs": [
    {
     "data": {
      "text/html": [
       "<div>\n",
       "<style scoped>\n",
       "    .dataframe tbody tr th:only-of-type {\n",
       "        vertical-align: middle;\n",
       "    }\n",
       "\n",
       "    .dataframe tbody tr th {\n",
       "        vertical-align: top;\n",
       "    }\n",
       "\n",
       "    .dataframe thead th {\n",
       "        text-align: right;\n",
       "    }\n",
       "</style>\n",
       "<table border=\"1\" class=\"dataframe\">\n",
       "  <thead>\n",
       "    <tr style=\"text-align: right;\">\n",
       "      <th></th>\n",
       "      <th>job</th>\n",
       "    </tr>\n",
       "    <tr>\n",
       "      <th>posted_mo</th>\n",
       "      <th></th>\n",
       "    </tr>\n",
       "  </thead>\n",
       "  <tbody>\n",
       "    <tr>\n",
       "      <th>1</th>\n",
       "      <td>5516</td>\n",
       "    </tr>\n",
       "    <tr>\n",
       "      <th>2</th>\n",
       "      <td>3945</td>\n",
       "    </tr>\n",
       "    <tr>\n",
       "      <th>3</th>\n",
       "      <td>4026</td>\n",
       "    </tr>\n",
       "    <tr>\n",
       "      <th>4</th>\n",
       "      <td>4010</td>\n",
       "    </tr>\n",
       "    <tr>\n",
       "      <th>5</th>\n",
       "      <td>3267</td>\n",
       "    </tr>\n",
       "    <tr>\n",
       "      <th>6</th>\n",
       "      <td>4197</td>\n",
       "    </tr>\n",
       "    <tr>\n",
       "      <th>7</th>\n",
       "      <td>4122</td>\n",
       "    </tr>\n",
       "    <tr>\n",
       "      <th>8</th>\n",
       "      <td>4295</td>\n",
       "    </tr>\n",
       "    <tr>\n",
       "      <th>9</th>\n",
       "      <td>4114</td>\n",
       "    </tr>\n",
       "    <tr>\n",
       "      <th>10</th>\n",
       "      <td>3901</td>\n",
       "    </tr>\n",
       "    <tr>\n",
       "      <th>11</th>\n",
       "      <td>5317</td>\n",
       "    </tr>\n",
       "    <tr>\n",
       "      <th>12</th>\n",
       "      <td>4378</td>\n",
       "    </tr>\n",
       "  </tbody>\n",
       "</table>\n",
       "</div>"
      ],
      "text/plain": [
       "            job\n",
       "posted_mo      \n",
       "1          5516\n",
       "2          3945\n",
       "3          4026\n",
       "4          4010\n",
       "5          3267\n",
       "6          4197\n",
       "7          4122\n",
       "8          4295\n",
       "9          4114\n",
       "10         3901\n",
       "11         5317\n",
       "12         4378"
      ]
     },
     "execution_count": 10,
     "metadata": {},
     "output_type": "execute_result"
    }
   ],
   "source": [
    "plot_ind = df_ind.groupby('posted_mo')['job'].agg('size').to_frame()\n",
    "plot_ind"
   ]
  },
  {
   "cell_type": "markdown",
   "metadata": {},
   "source": [
    "### Plotting"
   ]
  },
  {
   "cell_type": "code",
   "execution_count": 11,
   "metadata": {},
   "outputs": [
    {
     "data": {
      "image/png": "[encoded data removed]",
      "text/plain": [
       "<Figure size 1200x600 with 2 Axes>"
      ]
     },
     "metadata": {},
     "output_type": "display_data"
    }
   ],
   "source": [
    "# Setting Up for Plot\n",
    "fig, ax = plt.subplots(1, 2, figsize=(12, 6))\n",
    "sns.set_theme(style='ticks')\n",
    "\n",
    "# Creating Plot\n",
    "sns.lineplot(data=plot,     x='posted_mo', y='job', ax=ax[0], color= '#669bbc', linewidth=3, marker= 'o', markersize = 8)\n",
    "sns.lineplot(data=plot_ind, x='posted_mo', y='job', ax=ax[1], color= '#90a955', linewidth=3, marker= 'o', markersize = 8)\n",
    "\n",
    "# Modifying Axes and Labels\n",
    "ax[0].set_title('Global', color =  '#669bbc', fontweight='bold')\n",
    "ax[1].set_title('India',    color= '#90a955', fontweight='bold')\n",
    "\n",
    "ax[0].set_xlabel('Month',     color = '#6c757d')\n",
    "ax[0].set_ylabel('Job Count', color = '#6c757d')\n",
    "ax[1].set_xlabel('Month',     color = '#6c757d')\n",
    "ax[1].set_ylabel('Job Count', color = '#6c757d')\n",
    "\n",
    "ax[0].set_xlim(1, 12)\n",
    "ax[1].set_xlim(1, 12)\n",
    "\n",
    "ax[0].tick_params(axis='x', labelcolor='#889696') \n",
    "ax[0].tick_params(axis='y', labelcolor='#889696')\n",
    "ax[1].tick_params(axis='x', labelcolor='#889696') \n",
    "ax[1].tick_params(axis='y', labelcolor='#889696')\n",
    "\n",
    "ax[0].grid(True)\n",
    "ax[1].grid(True)\n",
    "\n",
    "# Modifying the entire figure\n",
    "plt.suptitle('Job Postings Over the Year', color = '#5c6b73')\n",
    "\n",
    "\n",
    "# Displaying the Plot\n",
    "plt.tight_layout()\n",
    "plt.show()\n"
   ]
  },
  {
   "cell_type": "markdown",
   "metadata": {},
   "source": [
    "<span style=\"color:#d7ba7d; font-size:50px;\"> End </span>\n",
    "\n",
    "---"
   ]
  }
 ],
 "metadata": {
  "kernelspec": {
   "display_name": "adv_environment",
   "language": "python",
   "name": "python3"
  },
  "language_info": {
   "codemirror_mode": {
    "name": "ipython",
    "version": 3
   },
   "file_extension": ".py",
   "mimetype": "text/x-python",
   "name": "python",
   "nbconvert_exporter": "python",
   "pygments_lexer": "ipython3",
   "version": "3.11.9"
  }
 },
 "nbformat": 4,
 "nbformat_minor": 2
}
