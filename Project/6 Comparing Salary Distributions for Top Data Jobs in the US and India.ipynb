{
 "cells": [
  {
   "cell_type": "markdown",
   "metadata": {},
   "source": [
    "### Importing Libraries"
   ]
  },
  {
   "cell_type": "markdown",
   "metadata": {},
   "source": [
    "  - `pandas` as `pd` for data manipulation and analysis.\n",
    "  - `numpy` as `np` for numerical operations.\n",
    "  - `matplotlib.pyplot` as `plt` for creating visualizations.\n",
    "  - `ast` for safely evaluating strings into python objects.\n",
    "  - `seaborn` as `sns` for statistical data visualization and enhanced plotting.\n"
   ]
  },
  {
   "cell_type": "code",
   "execution_count": 3,
   "metadata": {},
   "outputs": [],
   "source": [
    "import pandas as pd\n",
    "import numpy as np\n",
    "import matplotlib.pyplot as plt\n",
    "import ast  \n",
    "import seaborn as sns"
   ]
  },
  {
   "cell_type": "markdown",
   "metadata": {},
   "source": [
    "### Loading Data"
   ]
  },
  {
   "cell_type": "markdown",
   "metadata": {},
   "source": [
    "- **Reading CSV File:** reading a csv file into a dataframe named `df`, which is used for data analysis and manipulation.\n"
   ]
  },
  {
   "cell_type": "code",
   "execution_count": 4,
   "metadata": {},
   "outputs": [
    {
     "data": {
      "text/html": [
       "<div>\n",
       "<style scoped>\n",
       "    .dataframe tbody tr th:only-of-type {\n",
       "        vertical-align: middle;\n",
       "    }\n",
       "\n",
       "    .dataframe tbody tr th {\n",
       "        vertical-align: top;\n",
       "    }\n",
       "\n",
       "    .dataframe thead th {\n",
       "        text-align: right;\n",
       "    }\n",
       "</style>\n",
       "<table border=\"1\" class=\"dataframe\">\n",
       "  <thead>\n",
       "    <tr style=\"text-align: right;\">\n",
       "      <th></th>\n",
       "      <th>job_title_short</th>\n",
       "      <th>job_title</th>\n",
       "      <th>job_location</th>\n",
       "      <th>job_via</th>\n",
       "      <th>job_schedule_type</th>\n",
       "      <th>job_work_from_home</th>\n",
       "      <th>search_location</th>\n",
       "      <th>job_posted_date</th>\n",
       "      <th>job_no_degree_mention</th>\n",
       "      <th>job_health_insurance</th>\n",
       "      <th>job_country</th>\n",
       "      <th>salary_rate</th>\n",
       "      <th>salary_year_avg</th>\n",
       "      <th>salary_hour_avg</th>\n",
       "      <th>company_name</th>\n",
       "      <th>job_skills</th>\n",
       "      <th>job_type_skills</th>\n",
       "    </tr>\n",
       "  </thead>\n",
       "  <tbody>\n",
       "    <tr>\n",
       "      <th>294876</th>\n",
       "      <td>Data Engineer</td>\n",
       "      <td>Data Engineer - W2 Contract Role</td>\n",
       "      <td>Anywhere</td>\n",
       "      <td>via LinkedIn</td>\n",
       "      <td>Contractor</td>\n",
       "      <td>True</td>\n",
       "      <td>Texas, United States</td>\n",
       "      <td>2023-07-07 17:09:27</td>\n",
       "      <td>True</td>\n",
       "      <td>False</td>\n",
       "      <td>United States</td>\n",
       "      <td>NaN</td>\n",
       "      <td>NaN</td>\n",
       "      <td>NaN</td>\n",
       "      <td>E Computer Technologies Inc</td>\n",
       "      <td>['sql', 'aws', 'spark']</td>\n",
       "      <td>{'cloud': ['aws'], 'libraries': ['spark'], 'pr...</td>\n",
       "    </tr>\n",
       "    <tr>\n",
       "      <th>490276</th>\n",
       "      <td>Senior Data Analyst</td>\n",
       "      <td>Senior Data Analyst - X Delivery</td>\n",
       "      <td>Bogotá, Bogota, Colombia</td>\n",
       "      <td>via Boston Consulting Group</td>\n",
       "      <td>Full-time</td>\n",
       "      <td>False</td>\n",
       "      <td>Colombia</td>\n",
       "      <td>2023-03-23 11:35:29</td>\n",
       "      <td>False</td>\n",
       "      <td>False</td>\n",
       "      <td>Colombia</td>\n",
       "      <td>NaN</td>\n",
       "      <td>NaN</td>\n",
       "      <td>NaN</td>\n",
       "      <td>BCG GAMMA, Boston Consulting Group</td>\n",
       "      <td>['python', 'r', 'sql', 'sas', 'sas', 'redshift...</td>\n",
       "      <td>{'analyst_tools': ['sas', 'alteryx', 'tableau'...</td>\n",
       "    </tr>\n",
       "  </tbody>\n",
       "</table>\n",
       "</div>"
      ],
      "text/plain": [
       "            job_title_short                         job_title  \\\n",
       "294876        Data Engineer  Data Engineer - W2 Contract Role   \n",
       "490276  Senior Data Analyst  Senior Data Analyst - X Delivery   \n",
       "\n",
       "                    job_location                      job_via  \\\n",
       "294876                  Anywhere                 via LinkedIn   \n",
       "490276  Bogotá, Bogota, Colombia  via Boston Consulting Group   \n",
       "\n",
       "       job_schedule_type  job_work_from_home       search_location  \\\n",
       "294876        Contractor                True  Texas, United States   \n",
       "490276         Full-time               False              Colombia   \n",
       "\n",
       "            job_posted_date  job_no_degree_mention  job_health_insurance  \\\n",
       "294876  2023-07-07 17:09:27                   True                 False   \n",
       "490276  2023-03-23 11:35:29                  False                 False   \n",
       "\n",
       "          job_country salary_rate  salary_year_avg  salary_hour_avg  \\\n",
       "294876  United States         NaN              NaN              NaN   \n",
       "490276       Colombia         NaN              NaN              NaN   \n",
       "\n",
       "                              company_name  \\\n",
       "294876         E Computer Technologies Inc   \n",
       "490276  BCG GAMMA, Boston Consulting Group   \n",
       "\n",
       "                                               job_skills  \\\n",
       "294876                            ['sql', 'aws', 'spark']   \n",
       "490276  ['python', 'r', 'sql', 'sas', 'sas', 'redshift...   \n",
       "\n",
       "                                          job_type_skills  \n",
       "294876  {'cloud': ['aws'], 'libraries': ['spark'], 'pr...  \n",
       "490276  {'analyst_tools': ['sas', 'alteryx', 'tableau'...  "
      ]
     },
     "execution_count": 4,
     "metadata": {},
     "output_type": "execute_result"
    }
   ],
   "source": [
    "df = pd.read_csv(r'D:\\Python\\Files\\data_jobs.csv')\n",
    "df.sample(2)"
   ]
  },
  {
   "cell_type": "markdown",
   "metadata": {},
   "source": [
    "### Data Cleanup"
   ]
  },
  {
   "cell_type": "markdown",
   "metadata": {},
   "source": [
    "- **Renaming Columns:** assigning new column names to the dataframe.\n",
    "\n",
    "- **Converting Dates:** using `pd.to_datetime()` to change the 'posted_dt' column from string to datetime format.\n",
    "\n",
    "- **Converting Skills:**\n",
    "  - using `.apply() `function to convert 'skills' from string to list format by applying a custom function to  every row of a dataFrame.\n",
    "  - using `ast.literal_eval()` to evaluate and convert strings to python objects.\n",
    "  - ensuring conversion only happens if the value is not missing using `pd.notna(gg)`.\n",
    "\n",
    "- **Handling Missing Values:** optionally dropping rows with missing values in the 'salyr' column using `df.dropna()` (commented out)."
   ]
  },
  {
   "cell_type": "code",
   "execution_count": 5,
   "metadata": {},
   "outputs": [],
   "source": [
    "new_columns = ['job', 'full_name', 'location', 'via', 'schedule', 'work_from_home','search_location','posted_dt','no_degree','health_ins','country','salrate','salyr','salhr','company','skills','skilltype']\n",
    "df.columns = new_columns\n",
    "\n",
    "# data clean up\n",
    "df['posted_dt'] = pd.to_datetime(df['posted_dt']) \n",
    "df['skills'] = df['skills'].apply(lambda gg: ast.literal_eval(gg) if pd.notna(gg) else gg)\n",
    "df.dropna(subset=['salyr'],inplace=True)"
   ]
  },
  {
   "cell_type": "markdown",
   "metadata": {},
   "source": [
    "### Sample"
   ]
  },
  {
   "cell_type": "markdown",
   "metadata": {},
   "source": [
    "- Random sample of 2 rows from the modified dataFrame `df`"
   ]
  },
  {
   "cell_type": "code",
   "execution_count": 6,
   "metadata": {},
   "outputs": [
    {
     "data": {
      "text/html": [
       "<div>\n",
       "<style scoped>\n",
       "    .dataframe tbody tr th:only-of-type {\n",
       "        vertical-align: middle;\n",
       "    }\n",
       "\n",
       "    .dataframe tbody tr th {\n",
       "        vertical-align: top;\n",
       "    }\n",
       "\n",
       "    .dataframe thead th {\n",
       "        text-align: right;\n",
       "    }\n",
       "</style>\n",
       "<table border=\"1\" class=\"dataframe\">\n",
       "  <thead>\n",
       "    <tr style=\"text-align: right;\">\n",
       "      <th></th>\n",
       "      <th>job</th>\n",
       "      <th>full_name</th>\n",
       "      <th>location</th>\n",
       "      <th>via</th>\n",
       "      <th>schedule</th>\n",
       "      <th>work_from_home</th>\n",
       "      <th>search_location</th>\n",
       "      <th>posted_dt</th>\n",
       "      <th>no_degree</th>\n",
       "      <th>health_ins</th>\n",
       "      <th>country</th>\n",
       "      <th>salrate</th>\n",
       "      <th>salyr</th>\n",
       "      <th>salhr</th>\n",
       "      <th>company</th>\n",
       "      <th>skills</th>\n",
       "      <th>skilltype</th>\n",
       "    </tr>\n",
       "  </thead>\n",
       "  <tbody>\n",
       "    <tr>\n",
       "      <th>440233</th>\n",
       "      <td>Data Engineer</td>\n",
       "      <td>Python Data Engineer</td>\n",
       "      <td>Atlanta, GA</td>\n",
       "      <td>via LinkedIn</td>\n",
       "      <td>Full-time</td>\n",
       "      <td>False</td>\n",
       "      <td>New York, United States</td>\n",
       "      <td>2023-12-29 16:05:41</td>\n",
       "      <td>True</td>\n",
       "      <td>True</td>\n",
       "      <td>United States</td>\n",
       "      <td>year</td>\n",
       "      <td>120000.0</td>\n",
       "      <td>NaN</td>\n",
       "      <td>LTI - Larsen &amp; Toubro Infotech</td>\n",
       "      <td>[python, snowflake, aws]</td>\n",
       "      <td>{'cloud': ['snowflake', 'aws'], 'programming':...</td>\n",
       "    </tr>\n",
       "    <tr>\n",
       "      <th>407464</th>\n",
       "      <td>Data Analyst</td>\n",
       "      <td>Partner Data Analyst</td>\n",
       "      <td>Herzliya, Israel</td>\n",
       "      <td>via Ai-Jobs.net</td>\n",
       "      <td>Full-time</td>\n",
       "      <td>False</td>\n",
       "      <td>Israel</td>\n",
       "      <td>2023-02-16 16:28:12</td>\n",
       "      <td>False</td>\n",
       "      <td>False</td>\n",
       "      <td>Israel</td>\n",
       "      <td>year</td>\n",
       "      <td>111175.0</td>\n",
       "      <td>NaN</td>\n",
       "      <td>AppsFlyer</td>\n",
       "      <td>[sql, python, go]</td>\n",
       "      <td>{'programming': ['sql', 'python', 'go']}</td>\n",
       "    </tr>\n",
       "  </tbody>\n",
       "</table>\n",
       "</div>"
      ],
      "text/plain": [
       "                  job             full_name          location  \\\n",
       "440233  Data Engineer  Python Data Engineer       Atlanta, GA   \n",
       "407464   Data Analyst  Partner Data Analyst  Herzliya, Israel   \n",
       "\n",
       "                    via   schedule  work_from_home          search_location  \\\n",
       "440233     via LinkedIn  Full-time           False  New York, United States   \n",
       "407464  via Ai-Jobs.net  Full-time           False                   Israel   \n",
       "\n",
       "                 posted_dt  no_degree  health_ins        country salrate  \\\n",
       "440233 2023-12-29 16:05:41       True        True  United States    year   \n",
       "407464 2023-02-16 16:28:12      False       False         Israel    year   \n",
       "\n",
       "           salyr  salhr                         company  \\\n",
       "440233  120000.0    NaN  LTI - Larsen & Toubro Infotech   \n",
       "407464  111175.0    NaN                       AppsFlyer   \n",
       "\n",
       "                          skills  \\\n",
       "440233  [python, snowflake, aws]   \n",
       "407464         [sql, python, go]   \n",
       "\n",
       "                                                skilltype  \n",
       "440233  {'cloud': ['snowflake', 'aws'], 'programming':...  \n",
       "407464           {'programming': ['sql', 'python', 'go']}  "
      ]
     },
     "execution_count": 6,
     "metadata": {},
     "output_type": "execute_result"
    }
   ],
   "source": [
    "df.sample(2)"
   ]
  },
  {
   "cell_type": "markdown",
   "metadata": {},
   "source": [
    "# For USA"
   ]
  },
  {
   "cell_type": "markdown",
   "metadata": {},
   "source": [
    "### Identifying Top 6 Job Titles"
   ]
  },
  {
   "cell_type": "markdown",
   "metadata": {},
   "source": [
    "- **Filtering DataFrame:** filtering the dataframe to include only rows where the `country` is `'United States'`, creating a new dataframe `df_us`.\n",
    "\n",
    "- **Finding Top Job Titles:** finding the top six most common job titles in `df_us` by counting occurrences and selecting the most frequent ones. converting these job titles to a list and assigning it to `top6_jobs`.\n"
   ]
  },
  {
   "cell_type": "code",
   "execution_count": 7,
   "metadata": {},
   "outputs": [
    {
     "data": {
      "text/plain": [
       "['Data Scientist',\n",
       " 'Data Analyst',\n",
       " 'Data Engineer',\n",
       " 'Senior Data Scientist',\n",
       " 'Senior Data Engineer',\n",
       " 'Senior Data Analyst']"
      ]
     },
     "execution_count": 7,
     "metadata": {},
     "output_type": "execute_result"
    }
   ],
   "source": [
    "df_us = df[df['country']== 'United States'].copy()\n",
    "top6_jobs = df_us['job'].value_counts().head(6).index.to_list()\n",
    "top6_jobs"
   ]
  },
  {
   "cell_type": "markdown",
   "metadata": {},
   "source": [
    "### Filtering "
   ]
  },
  {
   "cell_type": "markdown",
   "metadata": {},
   "source": [
    "- **Filtering DataFrame:** filtering the `df_us` dataframe to include only rows where the `job` is one of the top six job titles listed in `top6_jobs`, creating a new dataframe `df_us_top6_jobs`.\n"
   ]
  },
  {
   "cell_type": "code",
   "execution_count": 8,
   "metadata": {},
   "outputs": [
    {
     "data": {
      "text/html": [
       "<div>\n",
       "<style scoped>\n",
       "    .dataframe tbody tr th:only-of-type {\n",
       "        vertical-align: middle;\n",
       "    }\n",
       "\n",
       "    .dataframe tbody tr th {\n",
       "        vertical-align: top;\n",
       "    }\n",
       "\n",
       "    .dataframe thead th {\n",
       "        text-align: right;\n",
       "    }\n",
       "</style>\n",
       "<table border=\"1\" class=\"dataframe\">\n",
       "  <thead>\n",
       "    <tr style=\"text-align: right;\">\n",
       "      <th></th>\n",
       "      <th>job</th>\n",
       "      <th>full_name</th>\n",
       "      <th>location</th>\n",
       "      <th>via</th>\n",
       "      <th>schedule</th>\n",
       "      <th>work_from_home</th>\n",
       "      <th>search_location</th>\n",
       "      <th>posted_dt</th>\n",
       "      <th>no_degree</th>\n",
       "      <th>health_ins</th>\n",
       "      <th>country</th>\n",
       "      <th>salrate</th>\n",
       "      <th>salyr</th>\n",
       "      <th>salhr</th>\n",
       "      <th>company</th>\n",
       "      <th>skills</th>\n",
       "      <th>skilltype</th>\n",
       "    </tr>\n",
       "  </thead>\n",
       "  <tbody>\n",
       "    <tr>\n",
       "      <th>436178</th>\n",
       "      <td>Senior Data Scientist</td>\n",
       "      <td>Senior Data Scientist (Greater Boston Area, MA)</td>\n",
       "      <td>Boston, MA</td>\n",
       "      <td>via Built In Boston</td>\n",
       "      <td>Full-time</td>\n",
       "      <td>False</td>\n",
       "      <td>New York, United States</td>\n",
       "      <td>2023-01-07 16:02:13</td>\n",
       "      <td>False</td>\n",
       "      <td>True</td>\n",
       "      <td>United States</td>\n",
       "      <td>year</td>\n",
       "      <td>193499.0</td>\n",
       "      <td>NaN</td>\n",
       "      <td>Motional</td>\n",
       "      <td>NaN</td>\n",
       "      <td>NaN</td>\n",
       "    </tr>\n",
       "    <tr>\n",
       "      <th>141233</th>\n",
       "      <td>Data Scientist</td>\n",
       "      <td>Lead Data Scientist - Digital Data Science/Wea...</td>\n",
       "      <td>Lexington, SC</td>\n",
       "      <td>via Ladders</td>\n",
       "      <td>Full-time</td>\n",
       "      <td>False</td>\n",
       "      <td>Georgia</td>\n",
       "      <td>2023-03-11 09:07:55</td>\n",
       "      <td>False</td>\n",
       "      <td>False</td>\n",
       "      <td>United States</td>\n",
       "      <td>year</td>\n",
       "      <td>125000.0</td>\n",
       "      <td>NaN</td>\n",
       "      <td>Novo Nordisk US</td>\n",
       "      <td>[sql, nosql]</td>\n",
       "      <td>{'programming': ['sql', 'nosql']}</td>\n",
       "    </tr>\n",
       "  </tbody>\n",
       "</table>\n",
       "</div>"
      ],
      "text/plain": [
       "                          job  \\\n",
       "436178  Senior Data Scientist   \n",
       "141233         Data Scientist   \n",
       "\n",
       "                                                full_name       location  \\\n",
       "436178    Senior Data Scientist (Greater Boston Area, MA)     Boston, MA   \n",
       "141233  Lead Data Scientist - Digital Data Science/Wea...  Lexington, SC   \n",
       "\n",
       "                        via   schedule  work_from_home  \\\n",
       "436178  via Built In Boston  Full-time           False   \n",
       "141233          via Ladders  Full-time           False   \n",
       "\n",
       "                search_location           posted_dt  no_degree  health_ins  \\\n",
       "436178  New York, United States 2023-01-07 16:02:13      False        True   \n",
       "141233                  Georgia 2023-03-11 09:07:55      False       False   \n",
       "\n",
       "              country salrate     salyr  salhr          company        skills  \\\n",
       "436178  United States    year  193499.0    NaN         Motional           NaN   \n",
       "141233  United States    year  125000.0    NaN  Novo Nordisk US  [sql, nosql]   \n",
       "\n",
       "                                skilltype  \n",
       "436178                                NaN  \n",
       "141233  {'programming': ['sql', 'nosql']}  "
      ]
     },
     "execution_count": 8,
     "metadata": {},
     "output_type": "execute_result"
    }
   ],
   "source": [
    "df_us_top6_jobs = df_us[df_us['job'].isin(top6_jobs)]\n",
    "df_us_top6_jobs.sample(2)"
   ]
  },
  {
   "cell_type": "markdown",
   "metadata": {},
   "source": [
    "### Grouping and Sorting"
   ]
  },
  {
   "cell_type": "markdown",
   "metadata": {},
   "source": [
    "- **Grouping and Calculating Median Salary:** grouping the `df_us_top6_jobs` dataframe by the `job` column and calculating the median salary (`salyr`) for each job title.\n",
    "\n",
    "- **Sorting Job Titles:** sorting these job titles by median salary in descending order.\n",
    "\n",
    "- **Converting to List:** converting the sorted job titles to a list named `order_us`.\n"
   ]
  },
  {
   "cell_type": "code",
   "execution_count": 9,
   "metadata": {},
   "outputs": [
    {
     "data": {
      "text/plain": [
       "['Senior Data Scientist',\n",
       " 'Senior Data Engineer',\n",
       " 'Data Scientist',\n",
       " 'Data Engineer',\n",
       " 'Senior Data Analyst',\n",
       " 'Data Analyst']"
      ]
     },
     "execution_count": 9,
     "metadata": {},
     "output_type": "execute_result"
    }
   ],
   "source": [
    "order_us = df_us_top6_jobs.groupby('job')['salyr'].agg('median').sort_values(ascending=False).index.to_list()\n",
    "order_us"
   ]
  },
  {
   "cell_type": "markdown",
   "metadata": {},
   "source": [
    "### Plotting"
   ]
  },
  {
   "cell_type": "code",
   "execution_count": 10,
   "metadata": {},
   "outputs": [
    {
     "data": {
      "image/png": "[encoded data removed]",
      "text/plain": [
       "<Figure size 640x480 with 1 Axes>"
      ]
     },
     "metadata": {},
     "output_type": "display_data"
    }
   ],
   "source": [
    "# Creating Plot\n",
    "sns.boxplot(data=df_us_top6_jobs , x= 'salyr', y= 'job', order=(order_us))\n",
    "\n",
    "# Modifying Axes and Labels\n",
    "ax= plt.gca() # to get the current axis\n",
    "ax.xaxis.set_major_formatter(plt.FuncFormatter(lambda x, _: f'${int(x/1000)}K')) # to convert 100000 to $100k at x-axis\n",
    "plt.title('Salary Distributions of Data Jobs in the USA')\n",
    "plt.xlabel('Yearly Salary')\n",
    "plt.ylabel('')\n",
    "\n",
    "# Displaying the plot\n",
    "plt.show()\n"
   ]
  },
  {
   "cell_type": "markdown",
   "metadata": {},
   "source": [
    "# For India "
   ]
  },
  {
   "cell_type": "markdown",
   "metadata": {},
   "source": [
    "### Identifying Top 6 Job Titles "
   ]
  },
  {
   "cell_type": "markdown",
   "metadata": {},
   "source": [
    "- **Filtering DataFrame:** filtering the dataframe to include only rows where the `country` is `'India'`, creating a new dataframe `df_ind`.\n",
    "\n",
    "- **Finding Top Job Titles:** finding the top six most common job titles in `df_ind` by counting occurrences and selecting the most frequent ones. converting these job titles to a list and assigning it to `top6_jobs`.\n"
   ]
  },
  {
   "cell_type": "code",
   "execution_count": 11,
   "metadata": {},
   "outputs": [
    {
     "data": {
      "text/plain": [
       "['Data Engineer',\n",
       " 'Data Analyst',\n",
       " 'Data Scientist',\n",
       " 'Machine Learning Engineer',\n",
       " 'Senior Data Engineer',\n",
       " 'Software Engineer']"
      ]
     },
     "execution_count": 11,
     "metadata": {},
     "output_type": "execute_result"
    }
   ],
   "source": [
    "df_ind = df[df['country']== 'India'].copy()\n",
    "top6_jobs_ind = df_ind['job'].value_counts().head(6).index.to_list()\n",
    "top6_jobs_ind"
   ]
  },
  {
   "cell_type": "markdown",
   "metadata": {},
   "source": [
    "### Filtering "
   ]
  },
  {
   "cell_type": "markdown",
   "metadata": {},
   "source": [
    "- **Filtering DataFrame:** filtering the `df_ind` dataframe to include only rows where the `job` is one of the top six job titles listed in `top6_jobs`, creating a new dataframe `df_ind_top6_jobs`.\n"
   ]
  },
  {
   "cell_type": "code",
   "execution_count": 12,
   "metadata": {},
   "outputs": [
    {
     "data": {
      "text/html": [
       "<div>\n",
       "<style scoped>\n",
       "    .dataframe tbody tr th:only-of-type {\n",
       "        vertical-align: middle;\n",
       "    }\n",
       "\n",
       "    .dataframe tbody tr th {\n",
       "        vertical-align: top;\n",
       "    }\n",
       "\n",
       "    .dataframe thead th {\n",
       "        text-align: right;\n",
       "    }\n",
       "</style>\n",
       "<table border=\"1\" class=\"dataframe\">\n",
       "  <thead>\n",
       "    <tr style=\"text-align: right;\">\n",
       "      <th></th>\n",
       "      <th>job</th>\n",
       "      <th>full_name</th>\n",
       "      <th>location</th>\n",
       "      <th>via</th>\n",
       "      <th>schedule</th>\n",
       "      <th>work_from_home</th>\n",
       "      <th>search_location</th>\n",
       "      <th>posted_dt</th>\n",
       "      <th>no_degree</th>\n",
       "      <th>health_ins</th>\n",
       "      <th>country</th>\n",
       "      <th>salrate</th>\n",
       "      <th>salyr</th>\n",
       "      <th>salhr</th>\n",
       "      <th>company</th>\n",
       "      <th>skills</th>\n",
       "      <th>skilltype</th>\n",
       "    </tr>\n",
       "  </thead>\n",
       "  <tbody>\n",
       "    <tr>\n",
       "      <th>512324</th>\n",
       "      <td>Senior Data Scientist</td>\n",
       "      <td>Master Data Manager</td>\n",
       "      <td>Bengaluru, Karnataka, India</td>\n",
       "      <td>via Ai-Jobs.net</td>\n",
       "      <td>Full-time</td>\n",
       "      <td>False</td>\n",
       "      <td>India</td>\n",
       "      <td>2023-01-18 11:13:37</td>\n",
       "      <td>False</td>\n",
       "      <td>False</td>\n",
       "      <td>India</td>\n",
       "      <td>year</td>\n",
       "      <td>105650.0</td>\n",
       "      <td>NaN</td>\n",
       "      <td>Sinch</td>\n",
       "      <td>NaN</td>\n",
       "      <td>NaN</td>\n",
       "    </tr>\n",
       "    <tr>\n",
       "      <th>773374</th>\n",
       "      <td>Data Engineer</td>\n",
       "      <td>Data Engineer</td>\n",
       "      <td>Chennai, Tamil Nadu, India</td>\n",
       "      <td>via Ai-Jobs.net</td>\n",
       "      <td>Full-time</td>\n",
       "      <td>False</td>\n",
       "      <td>India</td>\n",
       "      <td>2023-06-27 01:12:16</td>\n",
       "      <td>True</td>\n",
       "      <td>False</td>\n",
       "      <td>India</td>\n",
       "      <td>year</td>\n",
       "      <td>147500.0</td>\n",
       "      <td>NaN</td>\n",
       "      <td>Smartek21.com</td>\n",
       "      <td>[python, sql, java, mongodb, mongodb, scala, m...</td>\n",
       "      <td>{'databases': ['mongodb', 'mysql', 'postgresql...</td>\n",
       "    </tr>\n",
       "  </tbody>\n",
       "</table>\n",
       "</div>"
      ],
      "text/plain": [
       "                          job            full_name  \\\n",
       "512324  Senior Data Scientist  Master Data Manager   \n",
       "773374          Data Engineer        Data Engineer   \n",
       "\n",
       "                           location              via   schedule  \\\n",
       "512324  Bengaluru, Karnataka, India  via Ai-Jobs.net  Full-time   \n",
       "773374   Chennai, Tamil Nadu, India  via Ai-Jobs.net  Full-time   \n",
       "\n",
       "        work_from_home search_location           posted_dt  no_degree  \\\n",
       "512324           False           India 2023-01-18 11:13:37      False   \n",
       "773374           False           India 2023-06-27 01:12:16       True   \n",
       "\n",
       "        health_ins country salrate     salyr  salhr        company  \\\n",
       "512324       False   India    year  105650.0    NaN          Sinch   \n",
       "773374       False   India    year  147500.0    NaN  Smartek21.com   \n",
       "\n",
       "                                                   skills  \\\n",
       "512324                                                NaN   \n",
       "773374  [python, sql, java, mongodb, mongodb, scala, m...   \n",
       "\n",
       "                                                skilltype  \n",
       "512324                                                NaN  \n",
       "773374  {'databases': ['mongodb', 'mysql', 'postgresql...  "
      ]
     },
     "execution_count": 12,
     "metadata": {},
     "output_type": "execute_result"
    }
   ],
   "source": [
    "df_ind_top6_jobs = df_ind[df_ind['job'].isin(top6_jobs)]\n",
    "df_ind_top6_jobs.sample(2)"
   ]
  },
  {
   "cell_type": "markdown",
   "metadata": {},
   "source": [
    "### Grouping and Sorting"
   ]
  },
  {
   "cell_type": "markdown",
   "metadata": {},
   "source": [
    "- **Grouping and Calculating Median Salary:** grouping the `df_ind_top6_jobs` dataframe by the `job` column and calculating the median salary (`salyr`) for each job title.\n",
    "\n",
    "- **Sorting Job Titles:** sorting these job titles by median salary in descending order.\n",
    "\n",
    "- **Converting to List:** converting the sorted job titles to a list named `order_ind`.\n"
   ]
  },
  {
   "cell_type": "code",
   "execution_count": 13,
   "metadata": {},
   "outputs": [
    {
     "data": {
      "text/plain": [
       "['Senior Data Scientist',\n",
       " 'Data Engineer',\n",
       " 'Senior Data Engineer',\n",
       " 'Data Scientist',\n",
       " 'Senior Data Analyst',\n",
       " 'Data Analyst']"
      ]
     },
     "execution_count": 13,
     "metadata": {},
     "output_type": "execute_result"
    }
   ],
   "source": [
    "order_ind = df_ind_top6_jobs.groupby('job')['salyr'].agg('median').sort_values(ascending=False).index.to_list()\n",
    "order_ind"
   ]
  },
  {
   "cell_type": "markdown",
   "metadata": {},
   "source": [
    "### Plotting"
   ]
  },
  {
   "cell_type": "code",
   "execution_count": 14,
   "metadata": {},
   "outputs": [
    {
     "data": {
      "image/png": "[encoded data removed]",
      "text/plain": [
       "<Figure size 640x480 with 1 Axes>"
      ]
     },
     "metadata": {},
     "output_type": "display_data"
    }
   ],
   "source": [
    "# Creating Plot\n",
    "sns.boxplot(data=df_ind_top6_jobs , x= 'salyr', y= 'job', order=(order_ind))\n",
    "\n",
    "# Modifying Axes and Labels\n",
    "ax= plt.gca() # to get the current axis\n",
    "ax.xaxis.set_major_formatter(plt.FuncFormatter(lambda x, _: f'${int(x/1000)}K')) # to convert 100000 to $100k at x-axis\n",
    "plt.title('Salary Distributions of Data Jobs in the India')\n",
    "plt.xlabel('Yearly Salary')\n",
    "plt.ylabel('')\n",
    "\n",
    "# Displaying the plot\n",
    "plt.show()\n"
   ]
  },
  {
   "cell_type": "markdown",
   "metadata": {},
   "source": [
    "# Combined Plot"
   ]
  },
  {
   "cell_type": "code",
   "execution_count": 15,
   "metadata": {},
   "outputs": [
    {
     "data": {
      "image/png": "[encoded data removed]",
      "text/plain": [
       "<Figure size 1200x600 with 2 Axes>"
      ]
     },
     "metadata": {},
     "output_type": "display_data"
    }
   ],
   "source": [
    "\n",
    "salaries = [df_us_top6_jobs,df_ind_top6_jobs]\n",
    "orders = [order_us,order_ind]\n",
    "\n",
    "# Setting Up for Plot\n",
    "sns.set_theme(style='whitegrid')\n",
    "fig,ax = plt.subplots(1,len(salaries), figsize = (12,6))\n",
    "\n",
    "# Creating Plot\n",
    "for i,salary in enumerate(salaries) :\n",
    "    sns.boxplot(data=salary , x= 'salyr', y= 'job', order=(orders[i]), ax=ax[i])\n",
    "\n",
    "    # Modifying Axes and Labels\n",
    "    ax[i].xaxis.set_major_formatter(plt.FuncFormatter(lambda x, _: f'${int(x/1000)}K')) # to convert 100000 to $100k at x-axis\n",
    "    ax[0].set_title('USA', fontsize = 12.5)\n",
    "    ax[1].set_title('India', fontsize = 13)\n",
    "    ax[i].set_xlabel('Yearly Salary', color = '#5c6b73')\n",
    "    ax[i].set_ylabel('')\n",
    "    ax[i].tick_params(axis='x', labelcolor='#889696')\n",
    "    ax[i].tick_params(axis='y', labelcolor='#5c6b73')\n",
    "\n",
    "# Modifying the entire figure\n",
    "plt.suptitle('Salary Distributions of Data Jobs', color = '#5c6b73')\n",
    "\n",
    "# Displaying the plot\n",
    "plt.tight_layout()\n",
    "plt.show()"
   ]
  },
  {
   "cell_type": "markdown",
   "metadata": {},
   "source": [
    "<span style=\"color:#d7ba7d; font-size:50px;\"> End </span>\n",
    "\n",
    "---"
   ]
  }
 ],
 "metadata": {
  "kernelspec": {
   "display_name": "adv_environment",
   "language": "python",
   "name": "python3"
  },
  "language_info": {
   "codemirror_mode": {
    "name": "ipython",
    "version": 3
   },
   "file_extension": ".py",
   "mimetype": "text/x-python",
   "name": "python",
   "nbconvert_exporter": "python",
   "pygments_lexer": "ipython3",
   "version": "3.11.9"
  }
 },
 "nbformat": 4,
 "nbformat_minor": 2
}
