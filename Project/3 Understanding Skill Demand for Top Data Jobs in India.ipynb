{
 "cells": [
  {
   "cell_type": "markdown",
   "metadata": {},
   "source": [
    "### Importing Libraries"
   ]
  },
  {
   "cell_type": "markdown",
   "metadata": {},
   "source": [
    "  - `pandas` as `pd` for data manipulation and analysis.\n",
    "  - `numpy` as `np` for numerical operations.\n",
    "  - `matplotlib.pyplot` as `plt` for creating visualizations.\n",
    "  - `ast` for safely evaluating strings into python objects.\n",
    "  - `seaborn` as `sns` for statistical data visualization and enhanced plotting.\n"
   ]
  },
  {
   "cell_type": "code",
   "execution_count": 1,
   "metadata": {},
   "outputs": [],
   "source": [
    "import pandas as pd\n",
    "import numpy as np\n",
    "import matplotlib.pyplot as plt\n",
    "import ast  \n",
    "import seaborn as sns"
   ]
  },
  {
   "cell_type": "markdown",
   "metadata": {},
   "source": [
    "### Loading Data"
   ]
  },
  {
   "cell_type": "markdown",
   "metadata": {},
   "source": [
    "- **Reading CSV File:** reading a csv file  into a dataframe named `df`, which is used for data analysis and manipulation.\n"
   ]
  },
  {
   "cell_type": "code",
   "execution_count": 2,
   "metadata": {},
   "outputs": [
    {
     "data": {
      "text/html": [
       "<div>\n",
       "<style scoped>\n",
       "    .dataframe tbody tr th:only-of-type {\n",
       "        vertical-align: middle;\n",
       "    }\n",
       "\n",
       "    .dataframe tbody tr th {\n",
       "        vertical-align: top;\n",
       "    }\n",
       "\n",
       "    .dataframe thead th {\n",
       "        text-align: right;\n",
       "    }\n",
       "</style>\n",
       "<table border=\"1\" class=\"dataframe\">\n",
       "  <thead>\n",
       "    <tr style=\"text-align: right;\">\n",
       "      <th></th>\n",
       "      <th>job_title_short</th>\n",
       "      <th>job_title</th>\n",
       "      <th>job_location</th>\n",
       "      <th>job_via</th>\n",
       "      <th>job_schedule_type</th>\n",
       "      <th>job_work_from_home</th>\n",
       "      <th>search_location</th>\n",
       "      <th>job_posted_date</th>\n",
       "      <th>job_no_degree_mention</th>\n",
       "      <th>job_health_insurance</th>\n",
       "      <th>job_country</th>\n",
       "      <th>salary_rate</th>\n",
       "      <th>salary_year_avg</th>\n",
       "      <th>salary_hour_avg</th>\n",
       "      <th>company_name</th>\n",
       "      <th>job_skills</th>\n",
       "      <th>job_type_skills</th>\n",
       "    </tr>\n",
       "  </thead>\n",
       "  <tbody>\n",
       "    <tr>\n",
       "      <th>421908</th>\n",
       "      <td>Data Engineer</td>\n",
       "      <td>Staff Data Engineer - Remote | WFH</td>\n",
       "      <td>Anywhere</td>\n",
       "      <td>via LinkedIn</td>\n",
       "      <td>Full-time</td>\n",
       "      <td>True</td>\n",
       "      <td>Illinois, United States</td>\n",
       "      <td>2023-11-29 16:08:52</td>\n",
       "      <td>True</td>\n",
       "      <td>True</td>\n",
       "      <td>United States</td>\n",
       "      <td>NaN</td>\n",
       "      <td>NaN</td>\n",
       "      <td>NaN</td>\n",
       "      <td>Get It Recruit - Information Technology</td>\n",
       "      <td>['python', 'sql', 'aws', 'redshift', 'airflow'...</td>\n",
       "      <td>{'analyst_tools': ['tableau'], 'cloud': ['aws'...</td>\n",
       "    </tr>\n",
       "    <tr>\n",
       "      <th>523684</th>\n",
       "      <td>Data Scientist</td>\n",
       "      <td>Data Scientist - Hybrid Remote</td>\n",
       "      <td>Atlanta, GA</td>\n",
       "      <td>via IT JobServe</td>\n",
       "      <td>Full-time</td>\n",
       "      <td>False</td>\n",
       "      <td>Florida, United States</td>\n",
       "      <td>2023-08-08 11:05:27</td>\n",
       "      <td>False</td>\n",
       "      <td>True</td>\n",
       "      <td>United States</td>\n",
       "      <td>year</td>\n",
       "      <td>72870.0</td>\n",
       "      <td>NaN</td>\n",
       "      <td>UMB Bank</td>\n",
       "      <td>['r', 'python', 'sql', 'sql server', 'snowflak...</td>\n",
       "      <td>{'analyst_tools': ['tableau', 'power bi'], 'cl...</td>\n",
       "    </tr>\n",
       "  </tbody>\n",
       "</table>\n",
       "</div>"
      ],
      "text/plain": [
       "       job_title_short                           job_title job_location  \\\n",
       "421908   Data Engineer  Staff Data Engineer - Remote | WFH     Anywhere   \n",
       "523684  Data Scientist      Data Scientist - Hybrid Remote  Atlanta, GA   \n",
       "\n",
       "                job_via job_schedule_type  job_work_from_home  \\\n",
       "421908     via LinkedIn         Full-time                True   \n",
       "523684  via IT JobServe         Full-time               False   \n",
       "\n",
       "                search_location      job_posted_date  job_no_degree_mention  \\\n",
       "421908  Illinois, United States  2023-11-29 16:08:52                   True   \n",
       "523684   Florida, United States  2023-08-08 11:05:27                  False   \n",
       "\n",
       "        job_health_insurance    job_country salary_rate  salary_year_avg  \\\n",
       "421908                  True  United States         NaN              NaN   \n",
       "523684                  True  United States        year          72870.0   \n",
       "\n",
       "        salary_hour_avg                             company_name  \\\n",
       "421908              NaN  Get It Recruit - Information Technology   \n",
       "523684              NaN                                 UMB Bank   \n",
       "\n",
       "                                               job_skills  \\\n",
       "421908  ['python', 'sql', 'aws', 'redshift', 'airflow'...   \n",
       "523684  ['r', 'python', 'sql', 'sql server', 'snowflak...   \n",
       "\n",
       "                                          job_type_skills  \n",
       "421908  {'analyst_tools': ['tableau'], 'cloud': ['aws'...  \n",
       "523684  {'analyst_tools': ['tableau', 'power bi'], 'cl...  "
      ]
     },
     "execution_count": 2,
     "metadata": {},
     "output_type": "execute_result"
    }
   ],
   "source": [
    "df = pd.read_csv(r'D:\\Python\\Files\\data_jobs.csv')\n",
    "df.sample(2)"
   ]
  },
  {
   "cell_type": "markdown",
   "metadata": {},
   "source": [
    "### Data Cleanup"
   ]
  },
  {
   "cell_type": "markdown",
   "metadata": {},
   "source": [
    "- **Renaming Columns:** assigning new column names to the dataframe.\n",
    "\n",
    "- **Converting Dates:** using `pd.to_datetime()` to change the 'posted_dt' column from string to datetime format.\n",
    "\n",
    "- **Converting Skills:**\n",
    "  - using `.apply() `function to convert 'skills' from string to list format by applying a custom function to  every row of a dataFrame.\n",
    "  - using `ast.literal_eval()` to evaluate and convert strings to python objects.\n",
    "  - ensuring conversion only happens if the value is not missing using `pd.notna(gg)`.\n",
    "\n",
    "- **Handling Missing Values:** optionally dropping rows with missing values in the 'salyr' column using `df.dropna()` (commented out)."
   ]
  },
  {
   "cell_type": "code",
   "execution_count": 3,
   "metadata": {},
   "outputs": [],
   "source": [
    "new_columns = ['job', 'full_name', 'location', 'via', 'schedule', 'work_from_home','search_location','posted_dt','no_degree','health_ins','country','salrate','salyr','salhr','company','skills','skilltype']\n",
    "df.columns = new_columns\n",
    "\n",
    "# data clean up\n",
    "df['posted_dt'] = pd.to_datetime(df['posted_dt']) \n",
    "df['skills'] = df['skills'].apply(lambda gg: ast.literal_eval(gg) if pd.notna(gg) else gg)\n",
    "#df.dropna(subset=['salyr'],inplace=True)"
   ]
  },
  {
   "cell_type": "markdown",
   "metadata": {},
   "source": [
    "### Sample"
   ]
  },
  {
   "cell_type": "markdown",
   "metadata": {},
   "source": [
    "-  Random sample of 2 rows from the modified dataFrame `df`"
   ]
  },
  {
   "cell_type": "code",
   "execution_count": 4,
   "metadata": {},
   "outputs": [
    {
     "data": {
      "text/html": [
       "<div>\n",
       "<style scoped>\n",
       "    .dataframe tbody tr th:only-of-type {\n",
       "        vertical-align: middle;\n",
       "    }\n",
       "\n",
       "    .dataframe tbody tr th {\n",
       "        vertical-align: top;\n",
       "    }\n",
       "\n",
       "    .dataframe thead th {\n",
       "        text-align: right;\n",
       "    }\n",
       "</style>\n",
       "<table border=\"1\" class=\"dataframe\">\n",
       "  <thead>\n",
       "    <tr style=\"text-align: right;\">\n",
       "      <th></th>\n",
       "      <th>job</th>\n",
       "      <th>full_name</th>\n",
       "      <th>location</th>\n",
       "      <th>via</th>\n",
       "      <th>schedule</th>\n",
       "      <th>work_from_home</th>\n",
       "      <th>search_location</th>\n",
       "      <th>posted_dt</th>\n",
       "      <th>no_degree</th>\n",
       "      <th>health_ins</th>\n",
       "      <th>country</th>\n",
       "      <th>salrate</th>\n",
       "      <th>salyr</th>\n",
       "      <th>salhr</th>\n",
       "      <th>company</th>\n",
       "      <th>skills</th>\n",
       "      <th>skilltype</th>\n",
       "    </tr>\n",
       "  </thead>\n",
       "  <tbody>\n",
       "    <tr>\n",
       "      <th>523501</th>\n",
       "      <td>Business Analyst</td>\n",
       "      <td>Junior Business Analyst</td>\n",
       "      <td>Hong Kong</td>\n",
       "      <td>via Trabajo.org</td>\n",
       "      <td>Full-time</td>\n",
       "      <td>False</td>\n",
       "      <td>Hong Kong</td>\n",
       "      <td>2023-05-16 11:19:30</td>\n",
       "      <td>False</td>\n",
       "      <td>False</td>\n",
       "      <td>Hong Kong</td>\n",
       "      <td>NaN</td>\n",
       "      <td>NaN</td>\n",
       "      <td>NaN</td>\n",
       "      <td>AA Choice Peronnel Consultancy Limited</td>\n",
       "      <td>[word]</td>\n",
       "      <td>{'analyst_tools': ['word']}</td>\n",
       "    </tr>\n",
       "    <tr>\n",
       "      <th>594961</th>\n",
       "      <td>Data Engineer</td>\n",
       "      <td>Data Engineer/Analyst</td>\n",
       "      <td>San Mateo, CA</td>\n",
       "      <td>via Trabajo.org</td>\n",
       "      <td>Full-time</td>\n",
       "      <td>False</td>\n",
       "      <td>California, United States</td>\n",
       "      <td>2023-05-10 09:01:15</td>\n",
       "      <td>True</td>\n",
       "      <td>False</td>\n",
       "      <td>United States</td>\n",
       "      <td>NaN</td>\n",
       "      <td>NaN</td>\n",
       "      <td>NaN</td>\n",
       "      <td>Veryfi</td>\n",
       "      <td>[sql, mongo, shell, python, mysql, neo4j, redi...</td>\n",
       "      <td>{'databases': ['mysql', 'neo4j', 'redis'], 'li...</td>\n",
       "    </tr>\n",
       "  </tbody>\n",
       "</table>\n",
       "</div>"
      ],
      "text/plain": [
       "                     job                full_name       location  \\\n",
       "523501  Business Analyst  Junior Business Analyst      Hong Kong   \n",
       "594961     Data Engineer    Data Engineer/Analyst  San Mateo, CA   \n",
       "\n",
       "                    via   schedule  work_from_home            search_location  \\\n",
       "523501  via Trabajo.org  Full-time           False                  Hong Kong   \n",
       "594961  via Trabajo.org  Full-time           False  California, United States   \n",
       "\n",
       "                 posted_dt  no_degree  health_ins        country salrate  \\\n",
       "523501 2023-05-16 11:19:30      False       False      Hong Kong     NaN   \n",
       "594961 2023-05-10 09:01:15       True       False  United States     NaN   \n",
       "\n",
       "        salyr  salhr                                 company  \\\n",
       "523501    NaN    NaN  AA Choice Peronnel Consultancy Limited   \n",
       "594961    NaN    NaN                                  Veryfi   \n",
       "\n",
       "                                                   skills  \\\n",
       "523501                                             [word]   \n",
       "594961  [sql, mongo, shell, python, mysql, neo4j, redi...   \n",
       "\n",
       "                                                skilltype  \n",
       "523501                        {'analyst_tools': ['word']}  \n",
       "594961  {'databases': ['mysql', 'neo4j', 'redis'], 'li...  "
      ]
     },
     "execution_count": 4,
     "metadata": {},
     "output_type": "execute_result"
    }
   ],
   "source": [
    "df.sample(2)"
   ]
  },
  {
   "cell_type": "markdown",
   "metadata": {},
   "source": [
    "### Filtering and Copying"
   ]
  },
  {
   "cell_type": "markdown",
   "metadata": {},
   "source": [
    "- **Creating a New DataFrame:** creating a new dataframe 'df_ind' that contains only the rows from the original dataframe 'df' where the 'country' column has the value 'India'.\n",
    "  \n",
    "- **Copying Data:** using the `.copy()` method to copy the filtered data for further processing, ensuring that changes to `df_ind` do not affect `df`.\n"
   ]
  },
  {
   "cell_type": "code",
   "execution_count": 5,
   "metadata": {},
   "outputs": [
    {
     "data": {
      "text/html": [
       "<div>\n",
       "<style scoped>\n",
       "    .dataframe tbody tr th:only-of-type {\n",
       "        vertical-align: middle;\n",
       "    }\n",
       "\n",
       "    .dataframe tbody tr th {\n",
       "        vertical-align: top;\n",
       "    }\n",
       "\n",
       "    .dataframe thead th {\n",
       "        text-align: right;\n",
       "    }\n",
       "</style>\n",
       "<table border=\"1\" class=\"dataframe\">\n",
       "  <thead>\n",
       "    <tr style=\"text-align: right;\">\n",
       "      <th></th>\n",
       "      <th>job</th>\n",
       "      <th>full_name</th>\n",
       "      <th>location</th>\n",
       "      <th>via</th>\n",
       "      <th>schedule</th>\n",
       "      <th>work_from_home</th>\n",
       "      <th>search_location</th>\n",
       "      <th>posted_dt</th>\n",
       "      <th>no_degree</th>\n",
       "      <th>health_ins</th>\n",
       "      <th>country</th>\n",
       "      <th>salrate</th>\n",
       "      <th>salyr</th>\n",
       "      <th>salhr</th>\n",
       "      <th>company</th>\n",
       "      <th>skills</th>\n",
       "      <th>skilltype</th>\n",
       "    </tr>\n",
       "  </thead>\n",
       "  <tbody>\n",
       "    <tr>\n",
       "      <th>687669</th>\n",
       "      <td>Senior Data Analyst</td>\n",
       "      <td>Senior BI Analytics Engineer</td>\n",
       "      <td>Anywhere</td>\n",
       "      <td>via LinkedIn</td>\n",
       "      <td>Full-time</td>\n",
       "      <td>True</td>\n",
       "      <td>India</td>\n",
       "      <td>2023-02-08 18:11:15</td>\n",
       "      <td>True</td>\n",
       "      <td>False</td>\n",
       "      <td>India</td>\n",
       "      <td>NaN</td>\n",
       "      <td>NaN</td>\n",
       "      <td>NaN</td>\n",
       "      <td>IRIS Software Group</td>\n",
       "      <td>[sql, sql server, ssis, ssrs]</td>\n",
       "      <td>{'analyst_tools': ['ssis', 'ssrs'], 'databases...</td>\n",
       "    </tr>\n",
       "    <tr>\n",
       "      <th>36656</th>\n",
       "      <td>Data Scientist</td>\n",
       "      <td>Associate Lead Data Scientist</td>\n",
       "      <td>India</td>\n",
       "      <td>via LinkedIn</td>\n",
       "      <td>Full-time</td>\n",
       "      <td>False</td>\n",
       "      <td>India</td>\n",
       "      <td>2023-07-14 13:13:13</td>\n",
       "      <td>False</td>\n",
       "      <td>False</td>\n",
       "      <td>India</td>\n",
       "      <td>NaN</td>\n",
       "      <td>NaN</td>\n",
       "      <td>NaN</td>\n",
       "      <td>Sigmoid</td>\n",
       "      <td>[python, r, sql, nosql, aws, azure, gcp, spark...</td>\n",
       "      <td>{'cloud': ['aws', 'azure', 'gcp'], 'libraries'...</td>\n",
       "    </tr>\n",
       "  </tbody>\n",
       "</table>\n",
       "</div>"
      ],
      "text/plain": [
       "                        job                      full_name  location  \\\n",
       "687669  Senior Data Analyst   Senior BI Analytics Engineer  Anywhere   \n",
       "36656        Data Scientist  Associate Lead Data Scientist     India   \n",
       "\n",
       "                 via   schedule  work_from_home search_location  \\\n",
       "687669  via LinkedIn  Full-time            True           India   \n",
       "36656   via LinkedIn  Full-time           False           India   \n",
       "\n",
       "                 posted_dt  no_degree  health_ins country salrate  salyr  \\\n",
       "687669 2023-02-08 18:11:15       True       False   India     NaN    NaN   \n",
       "36656  2023-07-14 13:13:13      False       False   India     NaN    NaN   \n",
       "\n",
       "        salhr              company  \\\n",
       "687669    NaN  IRIS Software Group   \n",
       "36656     NaN              Sigmoid   \n",
       "\n",
       "                                                   skills  \\\n",
       "687669                      [sql, sql server, ssis, ssrs]   \n",
       "36656   [python, r, sql, nosql, aws, azure, gcp, spark...   \n",
       "\n",
       "                                                skilltype  \n",
       "687669  {'analyst_tools': ['ssis', 'ssrs'], 'databases...  \n",
       "36656   {'cloud': ['aws', 'azure', 'gcp'], 'libraries'...  "
      ]
     },
     "execution_count": 5,
     "metadata": {},
     "output_type": "execute_result"
    }
   ],
   "source": [
    "df_ind = df[df['country']== 'India'].copy()\n",
    "df_ind.sample(2)"
   ]
  },
  {
   "cell_type": "markdown",
   "metadata": {},
   "source": [
    "### Exploding "
   ]
  },
  {
   "cell_type": "markdown",
   "metadata": {},
   "source": [
    "- **Expanding Skills Lists:** expanding the lists in the 'skills' column of `df_ind` into separate rows, where each skill in a list is placed into its own row and duplicating the other column values for each new row.\n",
    "\n",
    "- **Creating a New DataFrame:** creating a new dataframe `df_explode` from the expanded data."
   ]
  },
  {
   "cell_type": "code",
   "execution_count": 6,
   "metadata": {},
   "outputs": [
    {
     "data": {
      "text/html": [
       "<div>\n",
       "<style scoped>\n",
       "    .dataframe tbody tr th:only-of-type {\n",
       "        vertical-align: middle;\n",
       "    }\n",
       "\n",
       "    .dataframe tbody tr th {\n",
       "        vertical-align: top;\n",
       "    }\n",
       "\n",
       "    .dataframe thead th {\n",
       "        text-align: right;\n",
       "    }\n",
       "</style>\n",
       "<table border=\"1\" class=\"dataframe\">\n",
       "  <thead>\n",
       "    <tr style=\"text-align: right;\">\n",
       "      <th></th>\n",
       "      <th>job</th>\n",
       "      <th>full_name</th>\n",
       "      <th>location</th>\n",
       "      <th>via</th>\n",
       "      <th>schedule</th>\n",
       "      <th>work_from_home</th>\n",
       "      <th>search_location</th>\n",
       "      <th>posted_dt</th>\n",
       "      <th>no_degree</th>\n",
       "      <th>health_ins</th>\n",
       "      <th>country</th>\n",
       "      <th>salrate</th>\n",
       "      <th>salyr</th>\n",
       "      <th>salhr</th>\n",
       "      <th>company</th>\n",
       "      <th>skills</th>\n",
       "      <th>skilltype</th>\n",
       "    </tr>\n",
       "  </thead>\n",
       "  <tbody>\n",
       "    <tr>\n",
       "      <th>515955</th>\n",
       "      <td>Data Engineer</td>\n",
       "      <td>Associate - Data Engineer</td>\n",
       "      <td>Pune, Maharashtra, India</td>\n",
       "      <td>via LinkedIn</td>\n",
       "      <td>Full-time</td>\n",
       "      <td>False</td>\n",
       "      <td>India</td>\n",
       "      <td>2023-04-06 11:15:47</td>\n",
       "      <td>False</td>\n",
       "      <td>False</td>\n",
       "      <td>India</td>\n",
       "      <td>NaN</td>\n",
       "      <td>NaN</td>\n",
       "      <td>NaN</td>\n",
       "      <td>TIAA</td>\n",
       "      <td>java</td>\n",
       "      <td>{'async': ['jira'], 'cloud': ['aws'], 'program...</td>\n",
       "    </tr>\n",
       "    <tr>\n",
       "      <th>168998</th>\n",
       "      <td>Data Scientist</td>\n",
       "      <td>Data Scientist</td>\n",
       "      <td>New Delhi, Delhi, India</td>\n",
       "      <td>via LinkedIn</td>\n",
       "      <td>Full-time</td>\n",
       "      <td>False</td>\n",
       "      <td>India</td>\n",
       "      <td>2023-10-20 15:15:31</td>\n",
       "      <td>False</td>\n",
       "      <td>False</td>\n",
       "      <td>India</td>\n",
       "      <td>NaN</td>\n",
       "      <td>NaN</td>\n",
       "      <td>NaN</td>\n",
       "      <td>Hero FinCorp.</td>\n",
       "      <td>cassandra</td>\n",
       "      <td>{'databases': ['cassandra'], 'libraries': ['ha...</td>\n",
       "    </tr>\n",
       "  </tbody>\n",
       "</table>\n",
       "</div>"
      ],
      "text/plain": [
       "                   job                  full_name                  location  \\\n",
       "515955   Data Engineer  Associate - Data Engineer  Pune, Maharashtra, India   \n",
       "168998  Data Scientist             Data Scientist   New Delhi, Delhi, India   \n",
       "\n",
       "                 via   schedule  work_from_home search_location  \\\n",
       "515955  via LinkedIn  Full-time           False           India   \n",
       "168998  via LinkedIn  Full-time           False           India   \n",
       "\n",
       "                 posted_dt  no_degree  health_ins country salrate  salyr  \\\n",
       "515955 2023-04-06 11:15:47      False       False   India     NaN    NaN   \n",
       "168998 2023-10-20 15:15:31      False       False   India     NaN    NaN   \n",
       "\n",
       "        salhr        company     skills  \\\n",
       "515955    NaN           TIAA       java   \n",
       "168998    NaN  Hero FinCorp.  cassandra   \n",
       "\n",
       "                                                skilltype  \n",
       "515955  {'async': ['jira'], 'cloud': ['aws'], 'program...  \n",
       "168998  {'databases': ['cassandra'], 'libraries': ['ha...  "
      ]
     },
     "execution_count": 6,
     "metadata": {},
     "output_type": "execute_result"
    }
   ],
   "source": [
    "df_explode = df_ind.explode('skills')\n",
    "df_explode.sample(2)"
   ]
  },
  {
   "cell_type": "markdown",
   "metadata": {},
   "source": [
    "### Counting Occurrences"
   ]
  },
  {
   "cell_type": "markdown",
   "metadata": {},
   "source": [
    "\n",
    "   \n",
    "-  `df_ind['job'].value_counts()` = counting the occurrences of each unique value in the 'job' column of `df_ind`.\n",
    "\n",
    "-  `.reset_index(name='job count')` =\n",
    "   i. converting the series to a dataframe.\n",
    "   ii. `.reset_index()` turning the index (job titles) into a column, and the counts becoming a new column named 'job count'.\n"
   ]
  },
  {
   "cell_type": "code",
   "execution_count": 7,
   "metadata": {},
   "outputs": [
    {
     "data": {
      "text/html": [
       "<div>\n",
       "<style scoped>\n",
       "    .dataframe tbody tr th:only-of-type {\n",
       "        vertical-align: middle;\n",
       "    }\n",
       "\n",
       "    .dataframe tbody tr th {\n",
       "        vertical-align: top;\n",
       "    }\n",
       "\n",
       "    .dataframe thead th {\n",
       "        text-align: right;\n",
       "    }\n",
       "</style>\n",
       "<table border=\"1\" class=\"dataframe\">\n",
       "  <thead>\n",
       "    <tr style=\"text-align: right;\">\n",
       "      <th></th>\n",
       "      <th>job</th>\n",
       "      <th>job count</th>\n",
       "    </tr>\n",
       "  </thead>\n",
       "  <tbody>\n",
       "    <tr>\n",
       "      <th>0</th>\n",
       "      <td>Data Engineer</td>\n",
       "      <td>19062</td>\n",
       "    </tr>\n",
       "    <tr>\n",
       "      <th>1</th>\n",
       "      <td>Data Scientist</td>\n",
       "      <td>13279</td>\n",
       "    </tr>\n",
       "    <tr>\n",
       "      <th>2</th>\n",
       "      <td>Data Analyst</td>\n",
       "      <td>6121</td>\n",
       "    </tr>\n",
       "    <tr>\n",
       "      <th>3</th>\n",
       "      <td>Senior Data Engineer</td>\n",
       "      <td>4353</td>\n",
       "    </tr>\n",
       "    <tr>\n",
       "      <th>4</th>\n",
       "      <td>Senior Data Scientist</td>\n",
       "      <td>2486</td>\n",
       "    </tr>\n",
       "    <tr>\n",
       "      <th>5</th>\n",
       "      <td>Business Analyst</td>\n",
       "      <td>1887</td>\n",
       "    </tr>\n",
       "    <tr>\n",
       "      <th>6</th>\n",
       "      <td>Software Engineer</td>\n",
       "      <td>1795</td>\n",
       "    </tr>\n",
       "    <tr>\n",
       "      <th>7</th>\n",
       "      <td>Senior Data Analyst</td>\n",
       "      <td>1083</td>\n",
       "    </tr>\n",
       "    <tr>\n",
       "      <th>8</th>\n",
       "      <td>Machine Learning Engineer</td>\n",
       "      <td>671</td>\n",
       "    </tr>\n",
       "    <tr>\n",
       "      <th>9</th>\n",
       "      <td>Cloud Engineer</td>\n",
       "      <td>351</td>\n",
       "    </tr>\n",
       "  </tbody>\n",
       "</table>\n",
       "</div>"
      ],
      "text/plain": [
       "                         job  job count\n",
       "0              Data Engineer      19062\n",
       "1             Data Scientist      13279\n",
       "2               Data Analyst       6121\n",
       "3       Senior Data Engineer       4353\n",
       "4      Senior Data Scientist       2486\n",
       "5           Business Analyst       1887\n",
       "6          Software Engineer       1795\n",
       "7        Senior Data Analyst       1083\n",
       "8  Machine Learning Engineer        671\n",
       "9             Cloud Engineer        351"
      ]
     },
     "execution_count": 7,
     "metadata": {},
     "output_type": "execute_result"
    }
   ],
   "source": [
    "df_jobs = df_ind['job'].value_counts().reset_index(name='job count')\n",
    "df_jobs"
   ]
  },
  {
   "cell_type": "markdown",
   "metadata": {},
   "source": [
    "### Aggregating and Sorting "
   ]
  },
  {
   "cell_type": "markdown",
   "metadata": {},
   "source": [
    "- **Grouping and Counting:** grouping the `df_explode` by both 'job' and 'skills', then calculating the count of each skill for each job title. this results in a series with a multiIndex (job and skills) and counts as values.\n",
    "\n",
    "- **Converting to DataFrame:** converting the series into a dataframe with 'job', 'skills', and 'skill count' columns, where 'skill count' contains the counts of each skill for each job.\n",
    "\n",
    "- **Sorting DataFrame:** sorting the dataframe in descending order based on 'skill count', so the most common skills appear first."
   ]
  },
  {
   "cell_type": "code",
   "execution_count": 8,
   "metadata": {},
   "outputs": [
    {
     "data": {
      "text/html": [
       "<div>\n",
       "<style scoped>\n",
       "    .dataframe tbody tr th:only-of-type {\n",
       "        vertical-align: middle;\n",
       "    }\n",
       "\n",
       "    .dataframe tbody tr th {\n",
       "        vertical-align: top;\n",
       "    }\n",
       "\n",
       "    .dataframe thead th {\n",
       "        text-align: right;\n",
       "    }\n",
       "</style>\n",
       "<table border=\"1\" class=\"dataframe\">\n",
       "  <thead>\n",
       "    <tr style=\"text-align: right;\">\n",
       "      <th></th>\n",
       "      <th>job</th>\n",
       "      <th>skills</th>\n",
       "      <th>skill count</th>\n",
       "    </tr>\n",
       "  </thead>\n",
       "  <tbody>\n",
       "    <tr>\n",
       "      <th>637</th>\n",
       "      <td>Data Engineer</td>\n",
       "      <td>sql</td>\n",
       "      <td>12993</td>\n",
       "    </tr>\n",
       "    <tr>\n",
       "      <th>603</th>\n",
       "      <td>Data Engineer</td>\n",
       "      <td>python</td>\n",
       "      <td>11568</td>\n",
       "    </tr>\n",
       "    <tr>\n",
       "      <th>807</th>\n",
       "      <td>Data Scientist</td>\n",
       "      <td>python</td>\n",
       "      <td>9248</td>\n",
       "    </tr>\n",
       "    <tr>\n",
       "      <th>632</th>\n",
       "      <td>Data Engineer</td>\n",
       "      <td>spark</td>\n",
       "      <td>7157</td>\n",
       "    </tr>\n",
       "    <tr>\n",
       "      <th>480</th>\n",
       "      <td>Data Engineer</td>\n",
       "      <td>aws</td>\n",
       "      <td>6993</td>\n",
       "    </tr>\n",
       "    <tr>\n",
       "      <th>...</th>\n",
       "      <td>...</td>\n",
       "      <td>...</td>\n",
       "      <td>...</td>\n",
       "    </tr>\n",
       "    <tr>\n",
       "      <th>1472</th>\n",
       "      <td>Senior Data Scientist</td>\n",
       "      <td>svn</td>\n",
       "      <td>1</td>\n",
       "    </tr>\n",
       "    <tr>\n",
       "      <th>998</th>\n",
       "      <td>Machine Learning Engineer</td>\n",
       "      <td>svn</td>\n",
       "      <td>1</td>\n",
       "    </tr>\n",
       "    <tr>\n",
       "      <th>138</th>\n",
       "      <td>Business Analyst</td>\n",
       "      <td>twilio</td>\n",
       "      <td>1</td>\n",
       "    </tr>\n",
       "    <tr>\n",
       "      <th>835</th>\n",
       "      <td>Data Scientist</td>\n",
       "      <td>solidity</td>\n",
       "      <td>1</td>\n",
       "    </tr>\n",
       "    <tr>\n",
       "      <th>139</th>\n",
       "      <td>Business Analyst</td>\n",
       "      <td>ubuntu</td>\n",
       "      <td>1</td>\n",
       "    </tr>\n",
       "  </tbody>\n",
       "</table>\n",
       "<p>1689 rows × 3 columns</p>\n",
       "</div>"
      ],
      "text/plain": [
       "                            job    skills  skill count\n",
       "637               Data Engineer       sql        12993\n",
       "603               Data Engineer    python        11568\n",
       "807              Data Scientist    python         9248\n",
       "632               Data Engineer     spark         7157\n",
       "480               Data Engineer       aws         6993\n",
       "...                         ...       ...          ...\n",
       "1472      Senior Data Scientist       svn            1\n",
       "998   Machine Learning Engineer       svn            1\n",
       "138            Business Analyst    twilio            1\n",
       "835              Data Scientist  solidity            1\n",
       "139            Business Analyst    ubuntu            1\n",
       "\n",
       "[1689 rows x 3 columns]"
      ]
     },
     "execution_count": 8,
     "metadata": {},
     "output_type": "execute_result"
    }
   ],
   "source": [
    "df_skills = df_explode.groupby(['job','skills'])['skills'].agg('size')\n",
    "df_skills = df_skills.reset_index(name='skill count')\n",
    "df_skills.sort_values(by='skill count',ascending=False,inplace=True)\n",
    "\n",
    "df_skills"
   ]
  },
  {
   "cell_type": "markdown",
   "metadata": {},
   "source": [
    "### Extracting and Selecting"
   ]
  },
  {
   "cell_type": "markdown",
   "metadata": {},
   "source": [
    "- **Extracting Unique Job Titles:** `df_skills['job'].unique().tolist()` extracts the unique job titles from the 'job' column of `df_skills` and converts them to a list.\n",
    "\n",
    "- **Sorting Job Titles:** `sorted(job_titles[:3])` selects the first three job titles from the list and sorts them alphabetically."
   ]
  },
  {
   "cell_type": "code",
   "execution_count": 9,
   "metadata": {},
   "outputs": [
    {
     "data": {
      "text/plain": [
       "['Data Analyst', 'Data Engineer', 'Data Scientist']"
      ]
     },
     "execution_count": 9,
     "metadata": {},
     "output_type": "execute_result"
    }
   ],
   "source": [
    "job_titles = df_skills['job'].unique().tolist()\n",
    "job_titles = sorted(job_titles[:3])\n",
    "\n",
    "job_titles"
   ]
  },
  {
   "cell_type": "markdown",
   "metadata": {},
   "source": [
    "### Merging DataFrames"
   ]
  },
  {
   "cell_type": "markdown",
   "metadata": {},
   "source": [
    "- **Merging Job Counts with Skill Counts:**\n",
    "  - merging the `df_skills` and `df_jobs` dataframes\n",
    "  - on the 'job' column using an inner join\n",
    "  - the new dataframe `df_jobs_skills` will contain the job titles along with their skill counts and job counts, including only the job titles that appear in both original dataframes"
   ]
  },
  {
   "cell_type": "code",
   "execution_count": 10,
   "metadata": {},
   "outputs": [],
   "source": [
    "df_jobs_skills = pd.merge(df_skills, df_jobs, on='job', how='inner')"
   ]
  },
  {
   "cell_type": "markdown",
   "metadata": {},
   "source": [
    "### Calculating  Skill Percentages"
   ]
  },
  {
   "cell_type": "markdown",
   "metadata": {},
   "source": [
    "- **Creating Skill Percentage Column:** creating a new column 'skill %' in the `df_jobs_skills`, which gives the percentage of each skill relative to the total number of job postings for that job title.\n",
    "\n",
    "- **Rounding Result:** rounding the result to one decimal place."
   ]
  },
  {
   "cell_type": "code",
   "execution_count": 11,
   "metadata": {},
   "outputs": [
    {
     "data": {
      "text/plain": [
       "0       68.2\n",
       "1       60.7\n",
       "2       69.6\n",
       "3       37.5\n",
       "4       36.7\n",
       "        ... \n",
       "1684     0.0\n",
       "1685     0.1\n",
       "1686     0.1\n",
       "1687     0.0\n",
       "1688     0.1\n",
       "Name: skill %, Length: 1689, dtype: float64"
      ]
     },
     "execution_count": 11,
     "metadata": {},
     "output_type": "execute_result"
    }
   ],
   "source": [
    "df_jobs_skills ['skill %'] = (100*  (df_jobs_skills['skill count']/df_jobs_skills['job count'])).round(1)\n",
    "df_jobs_skills['skill %']"
   ]
  },
  {
   "cell_type": "markdown",
   "metadata": {},
   "source": [
    "### Plotting Top Skills by Job Title"
   ]
  },
  {
   "cell_type": "code",
   "execution_count": 12,
   "metadata": {},
   "outputs": [
    {
     "data": {
      "image/png": "[encoded data removed]",
      "text/plain": [
       "<Figure size 800x500 with 3 Axes>"
      ]
     },
     "metadata": {},
     "output_type": "display_data"
    }
   ],
   "source": [
    "import matplotlib.colors as mcolors\n",
    "\n",
    "# Setting Up for Plot\n",
    "gradient_palette = mcolors.LinearSegmentedColormap.from_list( 'gradient_palette', ['#94d2bd', '#0a9396'], N=100)\n",
    "sns.set_theme(style='ticks')\n",
    "fig, ax = plt.subplots(len(job_titles), 1, figsize=(8,5))\n",
    "\n",
    "# Creating Plot\n",
    "for i, job_name in enumerate(job_titles):\n",
    "    df_plt = df_jobs_skills[df_jobs_skills['job'] == job_name].head(5)\n",
    "    sns.barplot(data=df_plt, x='skill %', y='skills', ax=ax[i], hue='skill count', palette=gradient_palette)\n",
    "\n",
    "    # Modifying Axes and Labels\n",
    "    ax[i].set_title(job_name)\n",
    "    ax[i].set_ylabel('')\n",
    "    ax[i].set_xlabel('')\n",
    "    ax[i].get_legend().remove()\n",
    "    ax[i].set_xlim(0, 100)\n",
    "\n",
    "    # Set the color of x-axis and y-axis ticks\n",
    "    ax[i].tick_params(axis='x', labelcolor='#889696')\n",
    "    ax[i].tick_params(axis='y', labelcolor='#6c757d')\n",
    "\n",
    "    # Removeing the x-axis tick labels for better readability\n",
    "    if i != len(job_titles) - 1:\n",
    "        ax[i].set_xticks([])\n",
    "\n",
    "    # Labeling the percentage on the bars\n",
    "    for p, q in enumerate(df_plt['skill %']):\n",
    "        ax[i].text(q + 1, p, f'{q:.0f}%', va='center', color = '#5c6b73')\n",
    "\n",
    "# Modifying the entire figure\n",
    "plt.suptitle('Frequency of Skill Requests in Indian Job Postings', color = '#5c6b73')\n",
    "\n",
    "# Displaying the plot\n",
    "plt.tight_layout()\n",
    "plt.show()\n"
   ]
  },
  {
   "cell_type": "markdown",
   "metadata": {},
   "source": [
    "<span style=\"color:#d7ba7d; font-size:50px;\"> End </span>\n",
    "\n",
    "---"
   ]
  }
 ],
 "metadata": {
  "kernelspec": {
   "display_name": "adv_environment",
   "language": "python",
   "name": "python3"
  },
  "language_info": {
   "codemirror_mode": {
    "name": "ipython",
    "version": 3
   },
   "file_extension": ".py",
   "mimetype": "text/x-python",
   "name": "python",
   "nbconvert_exporter": "python",
   "pygments_lexer": "ipython3",
   "version": "3.11.9"
  }
 },
 "nbformat": 4,
 "nbformat_minor": 2
}
